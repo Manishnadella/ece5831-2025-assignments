{
 "cells": [
  {
   "cell_type": "markdown",
   "id": "05dbba72",
   "metadata": {},
   "source": [
    "# Explaination and testing of Logic Gate implementation"
   ]
  },
  {
   "cell_type": "markdown",
   "id": "402ab6e2",
   "metadata": {},
   "source": [
    "### Concept of two input perceptron\n",
    "As the name suggests a two input perceptron takes two inputs and computes the equation below:\n",
    "$$\n",
    "y = 1: x1.w1 + x2.w2 > theta \\\\\n",
    "y = 0: x1.w1 + x2.w2 <= theta\n",
    "$$\n",
    "\n",
    "A higher weight implies that the input signal is more important"
   ]
  },
  {
   "cell_type": "code",
   "execution_count": null,
   "id": "7b9d839f",
   "metadata": {},
   "outputs": [
    {
     "name": "stdout",
     "output_type": "stream",
     "text": [
      "0 AND 0 = 0\n",
      "0 AND 1 = 0\n",
      "1 AND 0 = 0\n",
      "1 AND 1 = 1\n"
     ]
    }
   ],
   "source": [
    "# AND gate logic\n",
    "inputs = [(0,0), (0,1), (1,0), (1,1)] # list of inputs for AND gate\n",
    "w1, w2, theta = 1.0, 1.0, 1.5  # weights and theta for AND gate\n",
    "\n",
    "# traversing list of inputs and plugging them into perceptron equation.\n",
    "for i in inputs:\n",
    "    x1 = i[0]\n",
    "    x2 = i[1]\n",
    "    y = x1 * w1 + x2 * w2\n",
    "    if y > theta:\n",
    "        print(f'{x1} AND {x2} = 1')\n",
    "    else:\n",
    "        print(f'{x1} AND {x2} = 0')\n",
    "\n",
    "# the output of the above code block corresponds to the AND gate truth table."
   ]
  },
  {
   "cell_type": "markdown",
   "id": "3239dbd7",
   "metadata": {},
   "source": [
    "#### The content in the below block is simplified function of AND logic with for loop. THe block contains to functions and_gate() and test(). and_gate() has the and weights and theta and test() has inputs for the and_gate logic"
   ]
  },
  {
   "cell_type": "code",
   "execution_count": 4,
   "id": "880f3d41",
   "metadata": {},
   "outputs": [
    {
     "name": "stdout",
     "output_type": "stream",
     "text": [
      "0 AND 0 = 0\n",
      "0 AND 1 = 0\n",
      "1 AND 0 = 0\n",
      "1 AND 1 = 1\n"
     ]
    }
   ],
   "source": [
    "# modifying the code for AND gate to simplfy testing process\n",
    "def and_gate(x1, x2):\n",
    "    w1, w2, theta = 1.0, 1.0, 1.5  # weights and theta for AND gate\n",
    "    y = x1 * w1 + x2 * w2\n",
    "    if y > theta:\n",
    "        return 1\n",
    "    else:\n",
    "        return 0\n",
    "\n",
    "# function test\n",
    "def test():\n",
    "    inputs = [(0,0), (0,1), (1,0), (1,1)] # list of inputs for AND gate\n",
    "    for i in inputs:\n",
    "        x1 = i[0]\n",
    "        x2 = i[1]\n",
    "        print(f'{x1} AND {x2} = {and_gate(x1, x2)}')\n",
    "test()"
   ]
  },
  {
   "cell_type": "markdown",
   "id": "6137e62e",
   "metadata": {},
   "source": [
    "#### the block below has code to check weights and theta values for NAND,OR, NOR gate. the same weights and theta that are tested here are implemented in logic_gate.py file."
   ]
  },
  {
   "cell_type": "code",
   "execution_count": 7,
   "id": "f3067841",
   "metadata": {},
   "outputs": [
    {
     "name": "stdout",
     "output_type": "stream",
     "text": [
      "0 NAND 0 = 1\n",
      "0 NAND 1 = 1\n",
      "1 NAND 0 = 1\n",
      "1 NAND 1 = 0\n",
      "\n",
      "\n",
      "0 OR 0 = 0\n",
      "0 OR 1 = 1\n",
      "1 OR 0 = 1\n",
      "1 OR 1 = 1\n",
      "\n",
      "\n",
      "0 NOR 0 = 1\n",
      "0 NOR 1 = 0\n",
      "1 NOR 0 = 0\n",
      "1 NOR 1 = 0\n"
     ]
    }
   ],
   "source": [
    "# NAND gate\n",
    "inputs = [(0,0), (0,1), (1,0), (1,1)] \n",
    "w1, w2, theta = -1.0,-1.0, -1.5  \n",
    "\n",
    "for i in inputs:\n",
    "    x1 = i[0]\n",
    "    x2 = i[1]\n",
    "    y = x1 * w1 + x2 * w2\n",
    "    if y > theta:\n",
    "        print(f'{x1} NAND {x2} = 1')\n",
    "    else:\n",
    "        print(f'{x1} NAND {x2} = 0')\n",
    "print(\"\\n\")\n",
    "# OR gate\n",
    "inputs = [(0,0), (0,1), (1,0), (1,1)]\n",
    "w1, w2, theta = 0.7, 0.7, 0.5\n",
    "\n",
    "for i in inputs:\n",
    "    x1 = i[0]\n",
    "    x2 = i[1]\n",
    "    y = x1 * w1 + x2 * w2\n",
    "    if y > theta:\n",
    "        print(f'{x1} OR {x2} = 1')\n",
    "    else:\n",
    "        print(f'{x1} OR {x2} = 0')\n",
    "print(\"\\n\")\n",
    "\n",
    "# NOR gate\n",
    "inputs = [(0,0), (0,1), (1,0), (1,1)]\n",
    "w1, w2, theta = -0.7, -0.7, -0.5\n",
    "\n",
    "for i in inputs:\n",
    "    x1 = i[0]\n",
    "    x2 = i[1]\n",
    "    y = x1 * w1 + x2 * w2\n",
    "    if y > theta:\n",
    "        print(f'{x1} NOR {x2} = 1')\n",
    "    else:\n",
    "        print(f'{x1} NOR {x2} = 0')"
   ]
  },
  {
   "cell_type": "markdown",
   "id": "796380a0",
   "metadata": {},
   "source": [
    "#### The outputs of ablve block imply that the weights and parameters implemented for each gate satisfy the truth table of thegates, hence these values will be used as parameters in logic_gate.py file."
   ]
  },
  {
   "cell_type": "markdown",
   "id": "af0cf50c",
   "metadata": {},
   "source": []
  },
  {
   "cell_type": "markdown",
   "id": "4b495224",
   "metadata": {},
   "source": [
    "#### The below code block contains my trails for logic gate code without using numpy."
   ]
  },
  {
   "cell_type": "code",
   "execution_count": null,
   "id": "2654d2f2",
   "metadata": {},
   "outputs": [],
   "source": [
    "class LogicGateNonNumpy:\n",
    "    def __init__(self):\n",
    "        pass\n",
    "\n",
    "    # function to check if x1.w1 + x2.w2 is greater than theta.\n",
    "    # here lhs is x1 * w1 + x2 * w2\n",
    "    def _is_over_threshold(self, lhs, theta):\n",
    "        return 1 if lhs > theta else 0\n",
    "\n",
    "    # functions for logic gates\n",
    "    def and_gate(self, x1, x2):\n",
    "        w1, w2, theta = 1, 1, 1.5\n",
    "        return self._is_over_threshold(x1 * w1 + x2 * w2, theta)\n",
    "\n",
    "\n",
    "    def nand_gate(self, x1, x2):\n",
    "        w1, w2, theta = -1, -1, -1.5\n",
    "        return self._is_over_threshold(x1 * w1 + x2 * w2, theta)\n",
    "\n",
    "\n",
    "    def or_gate(self, x1, x2):\n",
    "        w1, w2, theta = 0.7, 0.7, 0.5\n",
    "        return self._is_over_threshold(x1 * w1 + x2 * w2, theta)\n",
    "\n",
    "\n",
    "    def nor_gate(self, x1, x2):\n",
    "        w1, w2, theta = -0.7, -0.7, -0.5\n",
    "        return self._is_over_threshold(x1 * w1 + x2 * w2, theta)\n",
    "\n",
    "    # testing the logic gate function with inputs list\n",
    "    def test(self):\n",
    "        inputs = [(0, 0), (0, 1), (1, 0), (1, 1)]\n",
    "        print(\"AND Gate Results:\")\n",
    "        for input in inputs:\n",
    "            print(f'{input[0]} AND {input[1]} = {self.and_gate(input[0], input[1])}')\n",
    "        \n",
    "        print(\"\\nNAND Gate Results:\")\n",
    "        for input in inputs:\n",
    "            print(f'{input[0]} NAND {input[1]} = {self.nand_gate(input[0], input[1])}')\n",
    "        \n",
    "        print(\"\\nOR Gate Results:\") \n",
    "        for input in inputs:\n",
    "            print(f'{input[0]} OR {input[1]} = {self.or_gate(input[0], input[1])}')\n",
    "        \n",
    "        print(\"\\nNOR Gate Results:\")\n",
    "        for input in inputs:\n",
    "            print(f'{input[0]} NOR {input[1]} = {self.nor_gate(input[0], input[1])}')  "
   ]
  },
  {
   "cell_type": "code",
   "execution_count": 9,
   "id": "18b8e41d",
   "metadata": {},
   "outputs": [
    {
     "name": "stdout",
     "output_type": "stream",
     "text": [
      "AND Gate Results:\n",
      "0 AND 0 = 0\n",
      "0 AND 1 = 0\n",
      "1 AND 0 = 0\n",
      "1 AND 1 = 1\n",
      "\n",
      "NAND Gate Results:\n",
      "0 NAND 0 = 1\n",
      "0 NAND 1 = 1\n",
      "1 NAND 0 = 1\n",
      "1 NAND 1 = 0\n",
      "\n",
      "OR Gate Results:\n",
      "0 OR 0 = 0\n",
      "0 OR 1 = 1\n",
      "1 OR 0 = 1\n",
      "1 OR 1 = 1\n",
      "\n",
      "NOR Gate Results:\n",
      "0 NOR 0 = 1\n",
      "0 NOR 1 = 0\n",
      "1 NOR 0 = 0\n",
      "1 NOR 1 = 0\n"
     ]
    }
   ],
   "source": [
    "lgnn = LogicGateNonNumpy()\n",
    "lgnn.test()"
   ]
  },
  {
   "cell_type": "markdown",
   "id": "91554e89",
   "metadata": {},
   "source": [
    "#### Instead of using numpy to store the parameters, the parameters are defined in each logic gate function."
   ]
  },
  {
   "cell_type": "markdown",
   "id": "2246b29e",
   "metadata": {},
   "source": [
    "#### The class for logic gates with numpy is implemented in logic_gate.py file"
   ]
  },
  {
   "cell_type": "code",
   "execution_count": null,
   "id": "7dca66e8",
   "metadata": {},
   "outputs": [],
   "source": []
  }
 ],
 "metadata": {
  "kernelspec": {
   "display_name": "base",
   "language": "python",
   "name": "python3"
  },
  "language_info": {
   "codemirror_mode": {
    "name": "ipython",
    "version": 3
   },
   "file_extension": ".py",
   "mimetype": "text/x-python",
   "name": "python",
   "nbconvert_exporter": "python",
   "pygments_lexer": "ipython3",
   "version": "3.12.7"
  }
 },
 "nbformat": 4,
 "nbformat_minor": 5
}
