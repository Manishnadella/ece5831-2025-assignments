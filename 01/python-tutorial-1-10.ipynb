{
 "cells": [
  {
   "cell_type": "markdown",
   "id": "a955c931",
   "metadata": {},
   "source": [
    "# Python Basics"
   ]
  },
  {
   "cell_type": "markdown",
   "id": "02215f17",
   "metadata": {},
   "source": [
    "## Section 1"
   ]
  },
  {
   "cell_type": "markdown",
   "id": "00f8c1aa",
   "metadata": {},
   "source": [
    "### Syntax"
   ]
  },
  {
   "cell_type": "code",
   "execution_count": 77,
   "id": "c3e52bc6",
   "metadata": {},
   "outputs": [
    {
     "name": "stdout",
     "output_type": "stream",
     "text": [
      "1\n",
      "2\n",
      "3\n",
      "4\n",
      "5\n",
      "6\n",
      "7\n",
      "8\n",
      "9\n"
     ]
    }
   ],
   "source": [
    "def main():\n",
    "    i = 1\n",
    "    max = 10\n",
    "    while (i < max):\n",
    "        print(i)\n",
    "        i = i + 1\n",
    "\n",
    "# call function main \n",
    "main()"
   ]
  },
  {
   "cell_type": "code",
   "execution_count": 78,
   "id": "f3b0b1d8",
   "metadata": {},
   "outputs": [
    {
     "name": "stdout",
     "output_type": "stream",
     "text": [
      "Continuation of statements\n"
     ]
    }
   ],
   "source": [
    "a = True\n",
    "b = False\n",
    "c = True\n",
    "if (a == True) and (b == False) and \\\n",
    "   (c == True):\n",
    "    print(\"Continuation of statements\")"
   ]
  },
  {
   "cell_type": "code",
   "execution_count": 79,
   "id": "d1da229b",
   "metadata": {},
   "outputs": [
    {
     "name": "stdout",
     "output_type": "stream",
     "text": [
      "This is a string\n",
      "Another string using double quotes\n",
      " string can span\n",
      "        multiple line \n"
     ]
    }
   ],
   "source": [
    "s = 'This is a string'\n",
    "print(s)\n",
    "s = \"Another string using double quotes\"\n",
    "print(s)\n",
    "s = ''' string can span\n",
    "        multiple line '''\n",
    "print(s)"
   ]
  },
  {
   "cell_type": "markdown",
   "id": "e2470cf5",
   "metadata": {},
   "source": [
    "### Variables"
   ]
  },
  {
   "cell_type": "code",
   "execution_count": 80,
   "id": "c595cf30",
   "metadata": {},
   "outputs": [
    {
     "name": "stdout",
     "output_type": "stream",
     "text": [
      "Hello, World!\n",
      "Good Bye!\n"
     ]
    }
   ],
   "source": [
    "message = 'Hello, World!'\n",
    "print(message)\n",
    "\n",
    "message = 'Good Bye!'\n",
    "print(message)\n",
    "\n",
    "# defining varibale\n",
    "counter = 100       "
   ]
  },
  {
   "cell_type": "markdown",
   "id": "704c78b1",
   "metadata": {},
   "source": [
    "### Strings"
   ]
  },
  {
   "cell_type": "code",
   "execution_count": 81,
   "id": "07349223",
   "metadata": {},
   "outputs": [
    {
     "name": "stdout",
     "output_type": "stream",
     "text": [
      "This is a string in Python\n",
      "This is also a string\n",
      "It's a beautiful day\n",
      "He said, \"Hello!\"\n",
      "It's a beautiful day\n",
      "C:\\newfolder\\test\n",
      "This is a multi-line string.\n",
      "    It has multiple lines.\n",
      "HI, Tony\n",
      "Good Day\n",
      "Good Day\n",
      "H\n",
      "W\n",
      "!\n",
      "o\n",
      "13\n",
      "Hello\n",
      "Jython String\n"
     ]
    }
   ],
   "source": [
    "message1 = 'This is a string in Python'\n",
    "message2 = \"This is also a string\"\n",
    "print(message1)\n",
    "print(message2)\n",
    "# string with single quote\n",
    "message3 = \"It's a beautiful day\"\n",
    "print(message3)\n",
    "# string with double quote\n",
    "message4 = 'He said, \"Hello!\"'\n",
    "print(message4)\n",
    "# escape character\n",
    "message5 = 'It\\'s a beautiful day'\n",
    "print(message5)\n",
    "# raw string\n",
    "message6 = r'C:\\newfolder\\test'\n",
    "print(message6)\n",
    "# multi-line string\n",
    "message7 = '''This is a multi-line string.\n",
    "    It has multiple lines.'''\n",
    "print(message7)\n",
    "# string variables\n",
    "name = 'Tony'\n",
    "msg = f'HI, {name}'\n",
    "print(msg)\n",
    "\n",
    "# string concatenation\n",
    "greet = 'Good ' 'Day'\n",
    "print(greet)\n",
    "\n",
    "# string concatenation using +\n",
    "greet1 = 'Good ' + 'Day'\n",
    "print(greet1)\n",
    "\n",
    "# access characters in a string\n",
    "str1 = 'Hello, World!'\n",
    "print(str1[0])      \n",
    "print(str1[7])      \n",
    "\n",
    "# access characters using negative index\n",
    "print(str1[-1])\n",
    "print(str1[-5])\n",
    "\n",
    "# length of string\n",
    "print(len(str1))\n",
    "\n",
    "# string slicing\n",
    "print(str1[0:5])\n",
    "\n",
    "str = \"Python String\"\n",
    "new_str = 'J' + str[1:]\n",
    "print(new_str)"
   ]
  },
  {
   "cell_type": "markdown",
   "id": "53772e78",
   "metadata": {},
   "source": [
    "### Numbers"
   ]
  },
  {
   "cell_type": "code",
   "execution_count": 82,
   "id": "dfd60216",
   "metadata": {},
   "outputs": [
    {
     "name": "stdout",
     "output_type": "stream",
     "text": [
      "Sum is: 9852\n",
      "Difference is: 8100\n",
      "Product is: 7862976\n",
      "Quotient is: 10.246575342465754\n",
      "Remainder is: 216\n",
      "Exponent is: 64\n",
      "====\n",
      "Sum is: 16.0\n",
      "Difference is: 11.0\n",
      "Product is: 33.75\n",
      "Quotient is: 5.4\n",
      "====\n",
      "5.3\n",
      "====\n",
      "10000000000000\n"
     ]
    }
   ],
   "source": [
    "a = 8976\n",
    "b = 876\n",
    "\n",
    "sum = a + b\n",
    "print(\"Sum is:\", sum)\n",
    "diff = a - b\n",
    "print(\"Difference is:\", diff)\n",
    "prod = a * b\n",
    "print(\"Product is:\", prod)\n",
    "quot = a / b\n",
    "print(\"Quotient is:\", quot)\n",
    "mod = a % b\n",
    "print(\"Remainder is:\", mod)\n",
    "\n",
    "x = 4\n",
    "y = 3\n",
    "exp = x ** y\n",
    "print(\"Exponent is:\", exp)\n",
    "print('====')\n",
    "# floats\n",
    "x = 13.5\n",
    "y = 2.5\n",
    "\n",
    "sum = x + y\n",
    "print(\"Sum is:\", sum)\n",
    "diff = x - y\n",
    "print(\"Difference is:\", diff)\n",
    "prod = x * y\n",
    "print(\"Product is:\", prod)\n",
    "quot = x / y\n",
    "print(\"Quotient is:\", quot)\n",
    "print('====')\n",
    "\n",
    "a = 1\n",
    "b = 4.3\n",
    "print(a + b)  \n",
    "print('====')\n",
    "\n",
    "count = 10_000_000_000_000\n",
    "print(count)"
   ]
  },
  {
   "cell_type": "markdown",
   "id": "c6905a24",
   "metadata": {},
   "source": [
    "### Boolean"
   ]
  },
  {
   "cell_type": "code",
   "execution_count": 83,
   "id": "a6a1191c",
   "metadata": {},
   "outputs": [
    {
     "name": "stdout",
     "output_type": "stream",
     "text": [
      "True\n",
      "False\n",
      "====\n",
      "False\n",
      "True\n",
      "====\n",
      "True\n",
      "True\n",
      "False\n"
     ]
    }
   ],
   "source": [
    "x = 20\n",
    "y = 10\n",
    "\n",
    "result = x > y\n",
    "print(result)\n",
    "\n",
    "result = x < y\n",
    "print(result)\n",
    "print('====')\n",
    "# string comparison\n",
    "x = 'a'\n",
    "y = 'b'\n",
    "\n",
    "result = x > y\n",
    "print(result)\n",
    "\n",
    "result = x < y\n",
    "print(result)\n",
    "print('====')\n",
    "\n",
    "result = bool('Hi')\n",
    "print(result)\n",
    "result = bool(100)\n",
    "print(result)\n",
    "result = bool(0)\n",
    "print(result)"
   ]
  },
  {
   "cell_type": "markdown",
   "id": "ed8d40a3",
   "metadata": {},
   "source": [
    "### constants"
   ]
  },
  {
   "cell_type": "code",
   "execution_count": 84,
   "id": "77ab5cc4",
   "metadata": {},
   "outputs": [
    {
     "name": "stdout",
     "output_type": "stream",
     "text": [
      "2000\n"
     ]
    }
   ],
   "source": [
    "FILE_SIZE_LIMIT = 2000\n",
    "print(FILE_SIZE_LIMIT)"
   ]
  },
  {
   "cell_type": "markdown",
   "id": "500425ea",
   "metadata": {},
   "source": [
    "### Comments"
   ]
  },
  {
   "cell_type": "code",
   "execution_count": 85,
   "id": "902ed5b6",
   "metadata": {},
   "outputs": [],
   "source": [
    "# this is a comment\n",
    "a = 100 # this is an inline comment\n",
    "\"\"\" TThis is a one line docstring using triple quotes \"\"\"\n",
    "\n",
    "def hi():\n",
    "    \"\"\" This is a multi-line docstring\n",
    "        with two lines\n",
    "    \"\"\""
   ]
  },
  {
   "cell_type": "markdown",
   "id": "a51cd093",
   "metadata": {},
   "source": [
    "### Type conversion"
   ]
  },
  {
   "cell_type": "code",
   "execution_count": 86,
   "id": "59323053",
   "metadata": {},
   "outputs": [
    {
     "name": "stdout",
     "output_type": "stream",
     "text": [
      "\n",
      "====\n"
     ]
    },
    {
     "ename": "ValueError",
     "evalue": "invalid literal for int() with base 10: ''",
     "output_type": "error",
     "traceback": [
      "\u001b[1;31m---------------------------------------------------------------------------\u001b[0m",
      "\u001b[1;31mValueError\u001b[0m                                Traceback (most recent call last)",
      "Cell \u001b[1;32mIn[86], line 7\u001b[0m\n\u001b[0;32m      4\u001b[0m price \u001b[38;5;241m=\u001b[39m \u001b[38;5;28minput\u001b[39m(\u001b[38;5;124m'\u001b[39m\u001b[38;5;124mEnter the price ($):\u001b[39m\u001b[38;5;124m'\u001b[39m)\n\u001b[0;32m      5\u001b[0m tax \u001b[38;5;241m=\u001b[39m \u001b[38;5;28minput\u001b[39m(\u001b[38;5;124m'\u001b[39m\u001b[38;5;124mEnter the tax rate (\u001b[39m\u001b[38;5;124m%\u001b[39m\u001b[38;5;124m):\u001b[39m\u001b[38;5;124m'\u001b[39m)\n\u001b[1;32m----> 7\u001b[0m tax_amount \u001b[38;5;241m=\u001b[39m \u001b[38;5;28mint\u001b[39m(price) \u001b[38;5;241m*\u001b[39m \u001b[38;5;28mint\u001b[39m(tax) \u001b[38;5;241m/\u001b[39m \u001b[38;5;241m100\u001b[39m\n\u001b[0;32m      8\u001b[0m \u001b[38;5;28mprint\u001b[39m(\u001b[38;5;124mf\u001b[39m\u001b[38;5;124m'\u001b[39m\u001b[38;5;124mThe tax amount is $\u001b[39m\u001b[38;5;132;01m{\u001b[39;00mtax_amount\u001b[38;5;132;01m}\u001b[39;00m\u001b[38;5;124m'\u001b[39m)\n\u001b[0;32m      9\u001b[0m \u001b[38;5;28mprint\u001b[39m(\u001b[38;5;124m'\u001b[39m\u001b[38;5;124m====\u001b[39m\u001b[38;5;124m'\u001b[39m)\n",
      "\u001b[1;31mValueError\u001b[0m: invalid literal for int() with base 10: ''"
     ]
    }
   ],
   "source": [
    "value = input(\"Enter a number: \")\n",
    "print(value)\n",
    "print('====')\n",
    "price = input('Enter the price ($):')\n",
    "tax = input('Enter the tax rate (%):')\n",
    "\n",
    "tax_amount = int(price) * int(tax) / 100\n",
    "print(f'The tax amount is ${tax_amount}')\n",
    "print('====')\n",
    "print(type(tax_amount))\n"
   ]
  },
  {
   "cell_type": "markdown",
   "id": "6833f672",
   "metadata": {},
   "source": [
    "## Section 2"
   ]
  },
  {
   "cell_type": "markdown",
   "id": "a68f8e4a",
   "metadata": {},
   "source": [
    "### Arithmetic operators"
   ]
  },
  {
   "cell_type": "code",
   "execution_count": null,
   "id": "77cbfa13",
   "metadata": {},
   "outputs": [
    {
     "name": "stdout",
     "output_type": "stream",
     "text": [
      "13\n",
      "7\n",
      "30\n",
      "3.3333333333333335\n",
      "3\n",
      "1\n",
      "1000\n",
      "Total Amount: $1,102.50\n"
     ]
    }
   ],
   "source": [
    "a = 10\n",
    "b = 3\n",
    "result = a + b\n",
    "\n",
    "print(result)\n",
    "\n",
    "a = 10\n",
    "b = 3\n",
    "result = a - b\n",
    "\n",
    "print(result)\n",
    "\n",
    "a = 10\n",
    "b = 3\n",
    "result = a * b\n",
    "\n",
    "print(result)\n",
    "\n",
    "a = 10\n",
    "b = 3\n",
    "result = a / b\n",
    "\n",
    "print(result)\n",
    "\n",
    "a = 10\n",
    "b = 3\n",
    "result = a // b\n",
    "\n",
    "print(result)\n",
    "\n",
    "a = 10\n",
    "b = 3\n",
    "result = a % b\n",
    "\n",
    "print(result)\n",
    "\n",
    "a = 10\n",
    "b = 3\n",
    "result = a ** b\n",
    "\n",
    "print(result)\n",
    "\n",
    "principal = 1000\n",
    "interest_rate = 0.05\n",
    "year = 2\n",
    "amount = principal * (1 + interest_rate ) ** year\n",
    "\n",
    "print(f\"Total Amount: ${amount:,.2f}\")"
   ]
  },
  {
   "cell_type": "markdown",
   "id": "49c59117",
   "metadata": {},
   "source": [
    "### Assignment operators"
   ]
  },
  {
   "cell_type": "code",
   "execution_count": null,
   "id": "2ba64117",
   "metadata": {},
   "outputs": [
    {
     "name": "stdout",
     "output_type": "stream",
     "text": [
      "1\n",
      "1\n",
      "1\n",
      "3\n",
      "20\n",
      "12.5\n",
      "3\n",
      "1\n",
      "8\n"
     ]
    }
   ],
   "source": [
    "count = 0\n",
    "count = count + 1\n",
    "\n",
    "print(count)\n",
    "\n",
    "count = 0\n",
    "count += 1\n",
    "\n",
    "print(count)\n",
    "\n",
    "count = 0\n",
    "count += 1  \n",
    "\n",
    "print(count)\n",
    "\n",
    "quantity = 5\n",
    "quantity -= 2  \n",
    "\n",
    "print(quantity)\n",
    "\n",
    "a = 10\n",
    "a *= 2  \n",
    "\n",
    "print(a)  \n",
    "\n",
    "amount = 25\n",
    "amount /= 2 \n",
    "\n",
    "print(amount)\n",
    "\n",
    "amount = 10\n",
    "amount //= 3  \n",
    "\n",
    "print(amount)\n",
    "\n",
    "amount = 10\n",
    "amount %= 3\n",
    "\n",
    "print(amount)\n",
    "\n",
    "a = 2\n",
    "a **= 3  \n",
    "print(a)\n",
    "\n"
   ]
  },
  {
   "cell_type": "markdown",
   "id": "73efdc8e",
   "metadata": {},
   "source": [
    "### Comparision operators"
   ]
  },
  {
   "cell_type": "code",
   "execution_count": null,
   "id": "ed6be5c2",
   "metadata": {},
   "outputs": [
    {
     "name": "stdout",
     "output_type": "stream",
     "text": [
      "True\n",
      "False\n",
      "True\n",
      "False\n",
      "True\n",
      "False\n",
      "True\n",
      "True\n",
      "True\n",
      "True\n",
      "False\n",
      "True\n",
      "False\n",
      "False\n",
      "False\n",
      "True\n",
      "False\n",
      "True\n"
     ]
    }
   ],
   "source": [
    "x = 10\n",
    "y = 20\n",
    "\n",
    "result = x < y\n",
    "print(result)\n",
    "\n",
    "result = x > y\n",
    "print(result)\n",
    "\n",
    "result = 'apple' < 'orange'\n",
    "print(result)\n",
    "\n",
    "result = 'banana' < 'apple'\n",
    "print(result)\n",
    "\n",
    "x = 10\n",
    "y = 20\n",
    "\n",
    "result = x < y\n",
    "print(result)\n",
    "\n",
    "result = y < x\n",
    "print(result)\n",
    "\n",
    "result = 20 <= 20\n",
    "print(result)\n",
    "\n",
    "result = 10 <= 20\n",
    "print(result)\n",
    "\n",
    "result = 30 <= 30\n",
    "print(result)\n",
    "\n",
    "x = 10\n",
    "y = 20\n",
    "\n",
    "result = x <= y\n",
    "print(result)\n",
    "\n",
    "result = y <= x\n",
    "print(result)\n",
    "\n",
    "result = 20 > 10\n",
    "print(result)\n",
    "\n",
    "result = 20 > 20\n",
    "print(result)\n",
    "\n",
    "result = 10 > 20\n",
    "print(result)\n",
    "\n",
    "result = 'apple' > 'orange'\n",
    "print(result)\n",
    "\n",
    "result = 'orange' > 'apple'\n",
    "print(result)\n",
    "\n",
    "result = 20 != 20\n",
    "print(result)\n",
    "\n",
    "result = 20 != 10\n",
    "print(result)\n",
    "\n"
   ]
  },
  {
   "cell_type": "markdown",
   "id": "1b8f2960",
   "metadata": {},
   "source": [
    "### Logical operator"
   ]
  },
  {
   "cell_type": "code",
   "execution_count": null,
   "id": "2cb27405",
   "metadata": {},
   "outputs": [
    {
     "name": "stdout",
     "output_type": "stream",
     "text": [
      "True\n",
      "False\n",
      "True\n",
      "True\n"
     ]
    }
   ],
   "source": [
    "price = 9.99\n",
    "result = price > 9 and price < 10\n",
    "print(result)\n",
    "\n",
    "price = 9.99\n",
    "result =  price > 10 and price < 20\n",
    "print(result)\n",
    "\n",
    "price = 9.99\n",
    "result =  price > 10 or price < 20\n",
    "print(result)\n",
    "\n",
    "price = 9.99\n",
    "result = not price > 10\n",
    "print(result)\n",
    "\n"
   ]
  },
  {
   "cell_type": "markdown",
   "id": "07d18633",
   "metadata": {},
   "source": [
    "## Section 3"
   ]
  },
  {
   "cell_type": "markdown",
   "id": "70ff77f5",
   "metadata": {},
   "source": [
    "### if_else"
   ]
  },
  {
   "cell_type": "code",
   "execution_count": null,
   "id": "8524fc96",
   "metadata": {},
   "outputs": [
    {
     "name": "stdout",
     "output_type": "stream",
     "text": [
      "You're eligible to vote.\n",
      "Let's go and vote.\n"
     ]
    }
   ],
   "source": [
    "age = input('Enter your age:')\n",
    "if int(age) >= 18:\n",
    "    print(\"You're eligible to vote.\")\n",
    "    print(\"Let's go and vote.\")"
   ]
  },
  {
   "cell_type": "code",
   "execution_count": null,
   "id": "37b45839",
   "metadata": {},
   "outputs": [
    {
     "name": "stdout",
     "output_type": "stream",
     "text": [
      "You're not eligible to vote.\n"
     ]
    }
   ],
   "source": [
    "# if and else\n",
    "age = input('Enter your age:')\n",
    "if int(age) >= 18:\n",
    "    print(\"You're eligible to vote.\")\n",
    "else:\n",
    "    print(\"You're not eligible to vote.\")"
   ]
  },
  {
   "cell_type": "code",
   "execution_count": null,
   "id": "9adb8b1c",
   "metadata": {},
   "outputs": [
    {
     "name": "stdout",
     "output_type": "stream",
     "text": [
      "You'll pay $10 for the ticket\n"
     ]
    }
   ],
   "source": [
    "#if_slif_else\n",
    "age = input('Enter your age:')\n",
    "\n",
    "# convert the string to int\n",
    "your_age = int(age)\n",
    "\n",
    "# determine the ticket price\n",
    "if your_age < 5:\n",
    "    ticket_price = 5\n",
    "elif your_age < 16:\n",
    "    ticket_price = 10\n",
    "else:\n",
    "    ticket_price = 18\n",
    "\n",
    "# show the ticket price\n",
    "print(f\"You'll pay ${ticket_price} for the ticket\")\n"
   ]
  },
  {
   "cell_type": "markdown",
   "id": "8e424d07",
   "metadata": {},
   "source": [
    "### Ternary operator"
   ]
  },
  {
   "cell_type": "code",
   "execution_count": null,
   "id": "d55b46e0",
   "metadata": {},
   "outputs": [
    {
     "name": "stdout",
     "output_type": "stream",
     "text": [
      "The ticket price is $20\n"
     ]
    }
   ],
   "source": [
    "age = 20\n",
    "ticket_price = 20 if int(age) >= 18 else 5\n",
    "\n",
    "print(f\"The ticket price is ${ticket_price}\")"
   ]
  },
  {
   "cell_type": "markdown",
   "id": "a1edd06e",
   "metadata": {},
   "source": [
    "### for loop"
   ]
  },
  {
   "cell_type": "code",
   "execution_count": null,
   "id": "68b48c22",
   "metadata": {},
   "outputs": [
    {
     "name": "stdout",
     "output_type": "stream",
     "text": [
      "0\n",
      "1\n",
      "2\n",
      "3\n",
      "4\n",
      "5\n",
      "6\n",
      "7\n",
      "8\n",
      "9\n"
     ]
    }
   ],
   "source": [
    "for index in range(10):\n",
    "    print(index)"
   ]
  },
  {
   "cell_type": "code",
   "execution_count": null,
   "id": "dfa8ed20",
   "metadata": {},
   "outputs": [
    {
     "name": "stdout",
     "output_type": "stream",
     "text": [
      "1\n",
      "2\n",
      "3\n"
     ]
    }
   ],
   "source": [
    "for index in range(3):\n",
    "    print(index + 1)"
   ]
  },
  {
   "cell_type": "code",
   "execution_count": null,
   "id": "0a581eef",
   "metadata": {},
   "outputs": [
    {
     "name": "stdout",
     "output_type": "stream",
     "text": [
      "0\n",
      "2\n",
      "4\n"
     ]
    }
   ],
   "source": [
    "for index in range(0, 6, 2):\n",
    "    print(index)"
   ]
  },
  {
   "cell_type": "code",
   "execution_count": null,
   "id": "4f0d2f5c",
   "metadata": {},
   "outputs": [
    {
     "name": "stdout",
     "output_type": "stream",
     "text": [
      "5050\n"
     ]
    }
   ],
   "source": [
    "sum = 0\n",
    "for num in range(101):\n",
    "    sum += num\n",
    "\n",
    "print(sum)"
   ]
  },
  {
   "cell_type": "markdown",
   "id": "6cd60af5",
   "metadata": {},
   "source": [
    "### While loop"
   ]
  },
  {
   "cell_type": "code",
   "execution_count": null,
   "id": "5d2732d2",
   "metadata": {},
   "outputs": [
    {
     "name": "stdout",
     "output_type": "stream",
     "text": [
      "0\n",
      "1\n",
      "2\n",
      "3\n",
      "4\n"
     ]
    }
   ],
   "source": [
    "max = 5\n",
    "counter = 0\n",
    "\n",
    "while counter < max:\n",
    "    print(counter)\n",
    "    counter += 1"
   ]
  },
  {
   "cell_type": "code",
   "execution_count": null,
   "id": "7cb02ea0",
   "metadata": {},
   "outputs": [
    {
     "name": "stdout",
     "output_type": "stream",
     "text": [
      "Echo: hi\n",
      "Echo: quit\n"
     ]
    }
   ],
   "source": [
    "command = ''\n",
    "\n",
    "while command.lower() != 'quit':\n",
    "    command = input('>')\n",
    "    print(f\"Echo: {command}\")\n"
   ]
  },
  {
   "cell_type": "markdown",
   "id": "faacf174",
   "metadata": {},
   "source": [
    "### break"
   ]
  },
  {
   "cell_type": "code",
   "execution_count": null,
   "id": "9d4636ed",
   "metadata": {},
   "outputs": [
    {
     "name": "stdout",
     "output_type": "stream",
     "text": [
      "0\n",
      "1\n",
      "2\n",
      "3\n"
     ]
    }
   ],
   "source": [
    "for index in range(0, 10):\n",
    "    print(index)\n",
    "    if index == 3:\n",
    "        break"
   ]
  },
  {
   "cell_type": "code",
   "execution_count": null,
   "id": "ede89628",
   "metadata": {},
   "outputs": [
    {
     "name": "stdout",
     "output_type": "stream",
     "text": [
      "(0,0)\n",
      "(0,1)\n",
      "(1,0)\n",
      "(1,1)\n",
      "(2,0)\n",
      "(2,1)\n",
      "(3,0)\n",
      "(3,1)\n",
      "(4,0)\n",
      "(4,1)\n"
     ]
    }
   ],
   "source": [
    "for x in range(5):\n",
    "    for y in range(5):\n",
    "        if y > 1:\n",
    "            break\n",
    "\n",
    "        print(f\"({x},{y})\")"
   ]
  },
  {
   "cell_type": "code",
   "execution_count": null,
   "id": "1e46db17",
   "metadata": {},
   "outputs": [
    {
     "name": "stdout",
     "output_type": "stream",
     "text": [
      "-- Help: type quit to exit --\n"
     ]
    }
   ],
   "source": [
    "print('-- Help: type quit to exit --')\n",
    "while True:\n",
    "    color = input('Enter your favorite color:')\n",
    "    if color.lower() == 'quit':\n",
    "        break"
   ]
  },
  {
   "cell_type": "markdown",
   "id": "d455b143",
   "metadata": {},
   "source": [
    "### COntinue"
   ]
  },
  {
   "cell_type": "code",
   "execution_count": null,
   "id": "391651bb",
   "metadata": {},
   "outputs": [
    {
     "name": "stdout",
     "output_type": "stream",
     "text": [
      "0\n",
      "2\n",
      "4\n",
      "6\n",
      "8\n"
     ]
    }
   ],
   "source": [
    "for index in range(10):\n",
    "    if index % 2:\n",
    "        continue\n",
    "\n",
    "    print(index)"
   ]
  },
  {
   "cell_type": "code",
   "execution_count": null,
   "id": "c4787f48",
   "metadata": {},
   "outputs": [
    {
     "name": "stdout",
     "output_type": "stream",
     "text": [
      "1\n",
      "3\n",
      "5\n",
      "7\n",
      "9\n"
     ]
    }
   ],
   "source": [
    "# print the odd numbers \n",
    "counter = 0\n",
    "while counter < 10:\n",
    "    counter += 1\n",
    "\n",
    "    if not counter % 2:\n",
    "        continue\n",
    "\n",
    "    print(counter)"
   ]
  },
  {
   "cell_type": "markdown",
   "id": "63ce8611",
   "metadata": {},
   "source": [
    "### Pass"
   ]
  },
  {
   "cell_type": "code",
   "execution_count": null,
   "id": "7a566648",
   "metadata": {},
   "outputs": [],
   "source": [
    "counter = 1\n",
    "max = 10\n",
    "if counter <= max:\n",
    "    counter += 1\n",
    "else:\n",
    "    pass"
   ]
  },
  {
   "cell_type": "markdown",
   "id": "9d3addd5",
   "metadata": {},
   "source": [
    "## Section 4"
   ]
  },
  {
   "cell_type": "markdown",
   "id": "dc977e29",
   "metadata": {},
   "source": [
    "### Python functions"
   ]
  },
  {
   "cell_type": "code",
   "execution_count": null,
   "id": "bc602339",
   "metadata": {},
   "outputs": [
    {
     "name": "stdout",
     "output_type": "stream",
     "text": [
      "Hi\n",
      "====\n",
      "Hi Tony\n",
      "====\n",
      "Hi Steve\n",
      "====\n",
      "30\n",
      "====\n"
     ]
    }
   ],
   "source": [
    "def greet():\n",
    "    print('Hi')\n",
    "greet()\n",
    "print('====')\n",
    "def greet(name):\n",
    "    print(f\"Hi {name}\")\n",
    "greet('Tony')\n",
    "print('====')\n",
    "\n",
    "def greet(name):\n",
    "    print(f\"Hi {name}\")\n",
    "    \n",
    "first_name = 'Steve'\n",
    "greet(first_name)\n",
    "print('====')\n",
    "\n",
    "def sum(a, b):\n",
    "    return a + b\n",
    "\n",
    "\n",
    "total = sum(10,20)\n",
    "print(total)\n",
    "print('====')"
   ]
  },
  {
   "cell_type": "markdown",
   "id": "fc71b112",
   "metadata": {},
   "source": [
    "### Default parameters"
   ]
  },
  {
   "cell_type": "code",
   "execution_count": null,
   "id": "3f6085dd",
   "metadata": {},
   "outputs": [
    {
     "name": "stdout",
     "output_type": "stream",
     "text": [
      "Hello John\n",
      "====\n",
      "Hi there\n",
      "====\n",
      "Hello there\n"
     ]
    }
   ],
   "source": [
    "def greet(name, message='Hi'):\n",
    "    return f\"{message} {name}\"\n",
    "\n",
    "\n",
    "greeting = greet('John', 'Hello')\n",
    "print(greeting)\n",
    "print('====')\n",
    "\n",
    "def greet(name='there', message='Hi'):\n",
    "    return f\"{message} {name}\"\n",
    "\n",
    "\n",
    "greeting = greet()\n",
    "print(greeting)\n",
    "print('====')\n",
    "\n",
    "def greet(name='there', message='Hi'):\n",
    "    return f\"{message} {name}\"\n",
    "\n",
    "\n",
    "greeting = greet(message='Hello')\n",
    "print(greeting)"
   ]
  },
  {
   "cell_type": "markdown",
   "id": "962aca2e",
   "metadata": {},
   "source": [
    "### keyword arguments"
   ]
  },
  {
   "cell_type": "code",
   "execution_count": null,
   "id": "59796d0e",
   "metadata": {},
   "outputs": [
    {
     "name": "stdout",
     "output_type": "stream",
     "text": [
      " 90.00\n"
     ]
    }
   ],
   "source": [
    "def get_net_price(price, discount):\n",
    "    return price * (1-discount)\n",
    "\n",
    "net_price = get_net_price(100, 0.1)\n",
    "print(f'{net_price: .2f}')"
   ]
  },
  {
   "cell_type": "code",
   "execution_count": null,
   "id": "97dbd3f3",
   "metadata": {},
   "outputs": [
    {
     "name": "stdout",
     "output_type": "stream",
     "text": [
      "-9.90\n",
      "====\n",
      " 90.00\n",
      "====\n",
      " 90.00\n",
      "====\n",
      " 101.65\n",
      "====\n",
      " 100.58\n"
     ]
    }
   ],
   "source": [
    "def get_net_price(price, discount):\n",
    "    return price * (1-discount)\n",
    "\n",
    "net_price = get_net_price(0.1, 100)\n",
    "print(f'{net_price: .2f}')\n",
    "print('====')\n",
    "\n",
    "def get_net_price(price, discount):\n",
    "    return price * (1-discount)\n",
    "\n",
    "net_price = get_net_price(\n",
    "    discount=0.1,\n",
    "    price=100\n",
    ")\n",
    "\n",
    "print(f'{net_price: .2f}')\n",
    "print('====')\n",
    "\n",
    "def get_net_price(price, discount):\n",
    "    return price * (1-discount)\n",
    "\n",
    "net_price = get_net_price(\n",
    "    100, \n",
    "    discount=0.1\n",
    ")\n",
    "\n",
    "print(f'{net_price: .2f}')\n",
    "print('====')\n",
    "def get_net_price(price, tax_rate=0.07, discount=0.05):\n",
    "    discounted_price = price * (1 - discount)  \n",
    "    net_price = discounted_price * (1 + tax_rate)  \n",
    "    return net_price\n",
    "\n",
    "net_price = get_net_price(100)\n",
    "print(f'{net_price: .2f}')\n",
    "print('====')\n",
    "\n",
    "def get_net_price(price, tax_rate=0.07, discount=0.05):\n",
    "    discounted_price = price * (1 - discount)  \n",
    "    net_price = discounted_price * (1 + tax_rate)  \n",
    "    return net_price\n",
    "\n",
    "net_price = get_net_price(\n",
    "    100, \n",
    "    discount=0.06\n",
    ")\n",
    "print(f'{net_price: .2f}')"
   ]
  },
  {
   "cell_type": "markdown",
   "id": "9fa6172a",
   "metadata": {},
   "source": [
    "### Recursive functions"
   ]
  },
  {
   "cell_type": "code",
   "execution_count": 87,
   "id": "dc662922",
   "metadata": {},
   "outputs": [
    {
     "name": "stdout",
     "output_type": "stream",
     "text": [
      "3\n",
      "2\n",
      "1\n"
     ]
    }
   ],
   "source": [
    "def count_down(start):\n",
    "    \n",
    "    print(start)\n",
    "\n",
    "    # call the count_down if the next\n",
    "    # number is greater than 0\n",
    "    next = start - 1\n",
    "    if next > 0:\n",
    "        count_down(next)\n",
    "\n",
    "\n",
    "count_down(3)"
   ]
  },
  {
   "cell_type": "code",
   "execution_count": 88,
   "id": "4687a813",
   "metadata": {},
   "outputs": [
    {
     "name": "stdout",
     "output_type": "stream",
     "text": [
      "5050\n"
     ]
    }
   ],
   "source": [
    "def sum(n):\n",
    "    total = 0\n",
    "    for index in range(n+1):\n",
    "        total += index\n",
    "\n",
    "    return total\n",
    "\n",
    "\n",
    "result = sum(100)\n",
    "print(result)"
   ]
  },
  {
   "cell_type": "code",
   "execution_count": 89,
   "id": "d4f08088",
   "metadata": {},
   "outputs": [
    {
     "name": "stdout",
     "output_type": "stream",
     "text": [
      "5050\n"
     ]
    }
   ],
   "source": [
    "def sum(n):\n",
    "    if n > 0:\n",
    "        return n + sum(n-1)\n",
    "    return 0\n",
    "\n",
    "\n",
    "result = sum(100)\n",
    "print(result)"
   ]
  },
  {
   "cell_type": "markdown",
   "id": "d53e6891",
   "metadata": {},
   "source": [
    "### Lambda expressions"
   ]
  },
  {
   "cell_type": "code",
   "execution_count": 90,
   "id": "ad577c3a",
   "metadata": {},
   "outputs": [
    {
     "name": "stdout",
     "output_type": "stream",
     "text": [
      "John Doe\n",
      "Doe, John\n"
     ]
    }
   ],
   "source": [
    "def get_full_name(first_name, last_name, formatter):\n",
    "    return formatter(first_name, last_name)\n",
    "\n",
    "def first_last(first_name, last_name):\n",
    "    return f\"{first_name} {last_name}\"\n",
    "\n",
    "\n",
    "def last_first(first_name, last_name):\n",
    "    return f\"{last_name}, {first_name}\"\n",
    "\n",
    "full_name = get_full_name('John', 'Doe', first_last)\n",
    "print(full_name) \n",
    "\n",
    "full_name = get_full_name('John', 'Doe', last_first)\n",
    "print(full_name) "
   ]
  },
  {
   "cell_type": "code",
   "execution_count": 91,
   "id": "866b1a5e",
   "metadata": {},
   "outputs": [
    {
     "name": "stdout",
     "output_type": "stream",
     "text": [
      "John Doe\n",
      "Doe, John\n"
     ]
    }
   ],
   "source": [
    "def get_full_name(first_name, last_name, formatter):\n",
    "    return formatter(first_name, last_name)\n",
    "\n",
    "\n",
    "full_name = get_full_name(\n",
    "    'John',\n",
    "    'Doe',\n",
    "    lambda first_name, last_name: f\"{first_name} {last_name}\"\n",
    ")\n",
    "print(full_name)\n",
    "\n",
    "full_name = get_full_name(\n",
    "    'John',\n",
    "    'Doe',\n",
    "    lambda first_name, last_name: f\"{last_name}, {first_name}\"\n",
    ")\n",
    "print(full_name)\n"
   ]
  },
  {
   "cell_type": "code",
   "execution_count": 92,
   "id": "81cf7719",
   "metadata": {},
   "outputs": [
    {
     "name": "stdout",
     "output_type": "stream",
     "text": [
      "4\n",
      "6\n"
     ]
    }
   ],
   "source": [
    "def times(n):\n",
    "    return lambda x: x * n\n",
    "\n",
    "double = times(2)\n",
    "\n",
    "result = double(2)\n",
    "print(result)\n",
    "\n",
    "result = double(3)\n",
    "print(result)"
   ]
  },
  {
   "cell_type": "code",
   "execution_count": 93,
   "id": "c13c7ebf",
   "metadata": {},
   "outputs": [
    {
     "name": "stdout",
     "output_type": "stream",
     "text": [
      "3\n",
      "3\n",
      "3\n"
     ]
    }
   ],
   "source": [
    "callables = []\n",
    "for i in (1, 2, 3):\n",
    "    callables.append(lambda: i)\n",
    "\n",
    "for f in callables:\n",
    "    print(f())"
   ]
  },
  {
   "cell_type": "code",
   "execution_count": 94,
   "id": "3b85c166",
   "metadata": {},
   "outputs": [
    {
     "name": "stdout",
     "output_type": "stream",
     "text": [
      "1\n",
      "2\n",
      "3\n"
     ]
    }
   ],
   "source": [
    "callables = []\n",
    "for i in (1, 2, 3):\n",
    "    callables.append(lambda a=i: a)\n",
    "\n",
    "for f in callables:\n",
    "    print(f())\n"
   ]
  },
  {
   "cell_type": "markdown",
   "id": "b006673d",
   "metadata": {},
   "source": [
    "### Docstings"
   ]
  },
  {
   "cell_type": "code",
   "execution_count": 95,
   "id": "75a545e0",
   "metadata": {},
   "outputs": [
    {
     "name": "stdout",
     "output_type": "stream",
     "text": [
      "Help on built-in function print in module builtins:\n",
      "\n",
      "print(*args, sep=' ', end='\\n', file=None, flush=False)\n",
      "    Prints the values to a stream, or to sys.stdout by default.\n",
      "\n",
      "    sep\n",
      "      string inserted between values, default a space.\n",
      "    end\n",
      "      string appended after the last value, default a newline.\n",
      "    file\n",
      "      a file-like object (stream); defaults to the current sys.stdout.\n",
      "    flush\n",
      "      whether to forcibly flush the stream.\n",
      "\n"
     ]
    }
   ],
   "source": [
    "help(print)"
   ]
  },
  {
   "cell_type": "code",
   "execution_count": 96,
   "id": "1ed252df",
   "metadata": {},
   "outputs": [
    {
     "name": "stdout",
     "output_type": "stream",
     "text": [
      "Help on function add in module __main__:\n",
      "\n",
      "add(a, b)\n",
      "    Return the sum of two arguments\n",
      "\n"
     ]
    }
   ],
   "source": [
    "def add(a, b):\n",
    "    \"Return the sum of two arguments\"\n",
    "    return a + b\n",
    "\n",
    "help(add)"
   ]
  },
  {
   "cell_type": "code",
   "execution_count": 97,
   "id": "08006aaf",
   "metadata": {},
   "outputs": [
    {
     "name": "stdout",
     "output_type": "stream",
     "text": [
      " Add two arguments\n",
      "    Arguments:\n",
      "        a: an integer\n",
      "        b: an integer\n",
      "    Returns:\n",
      "        The sum of the two arguments\n",
      "    \n"
     ]
    }
   ],
   "source": [
    "def add(a, b):\n",
    "    \"\"\" Add two arguments\n",
    "    Arguments:\n",
    "        a: an integer\n",
    "        b: an integer\n",
    "    Returns:\n",
    "        The sum of the two arguments\n",
    "    \"\"\"\n",
    "    return a + b\n",
    "\n",
    "print(add.__doc__)"
   ]
  },
  {
   "cell_type": "markdown",
   "id": "91e93170",
   "metadata": {},
   "source": [
    "## Section 5"
   ]
  },
  {
   "cell_type": "markdown",
   "id": "83822730",
   "metadata": {},
   "source": [
    "### list"
   ]
  },
  {
   "cell_type": "code",
   "execution_count": 105,
   "id": "3b44d853",
   "metadata": {},
   "outputs": [
    {
     "name": "stdout",
     "output_type": "stream",
     "text": [
      "[1, 3, 2, 7, 9, 4]\n",
      "====\n",
      "['red', 'green', 'blue']\n",
      "====\n",
      "1\n",
      "====\n",
      "4\n",
      "9\n",
      "====\n",
      "[1, 30, 2, 7, 9, 4]\n",
      "====\n",
      "[1, 3, 1.0, 7, 9, 4]\n",
      "====\n",
      "[1, 3, 2, 7, 9, 4, 100]\n",
      "====\n",
      "[3, 2, 7, 9, 4]\n",
      "====\n",
      "[1, 3, 2, 7, 4, 9]\n"
     ]
    }
   ],
   "source": [
    "numbers = [1, 3, 2, 7, 9, 4]\n",
    "print(numbers)\n",
    "print('====')\n",
    "\n",
    "colors = ['red', 'green', 'blue']\n",
    "print(colors)\n",
    "print('====')\n",
    "\n",
    "numbers = [1, 3, 2, 7, 9, 4]\n",
    "print(numbers[0])\n",
    "print('====')\n",
    "\n",
    "numbers = [1, 3, 2, 7, 9, 4]\n",
    "print(numbers[-1])\n",
    "print(numbers[-2])\n",
    "print('====')\n",
    "\n",
    "numbers = [1, 3, 2, 7, 9, 4]\n",
    "numbers[1] = numbers[1]*10\n",
    "\n",
    "print(numbers)\n",
    "print('====')\n",
    "\n",
    "numbers = [1, 3, 2, 7, 9, 4]\n",
    "numbers[2] /= 2\n",
    "\n",
    "print(numbers)\n",
    "print('====')\n",
    "\n",
    "numbers = [1, 3, 2, 7, 9, 4]\n",
    "numbers.append(100)\n",
    "\n",
    "print(numbers)\n",
    "print('====')\n",
    "\n",
    "numbers = [1, 3, 2, 7, 9, 4]\n",
    "del numbers[0]\n",
    "\n",
    "print(numbers)\n",
    "print('====')\n",
    "\n",
    "numbers = [1, 3, 2, 7, 9, 4, 9]\n",
    "\n",
    "numbers.remove(9)\n",
    "print(numbers)"
   ]
  },
  {
   "cell_type": "markdown",
   "id": "cdf7071c",
   "metadata": {},
   "source": [
    "### tuple"
   ]
  },
  {
   "cell_type": "code",
   "execution_count": 106,
   "id": "00ee84c5",
   "metadata": {},
   "outputs": [
    {
     "name": "stdout",
     "output_type": "stream",
     "text": [
      "red\n",
      "green\n",
      "blue\n"
     ]
    }
   ],
   "source": [
    "rgb = ('red', 'green', 'blue')\n",
    "\n",
    "print(rgb[0])\n",
    "print(rgb[1])\n",
    "print(rgb[2])"
   ]
  },
  {
   "cell_type": "code",
   "execution_count": 107,
   "id": "fcdc8f4d",
   "metadata": {},
   "outputs": [
    {
     "ename": "TypeError",
     "evalue": "'tuple' object does not support item assignment",
     "output_type": "error",
     "traceback": [
      "\u001b[1;31m---------------------------------------------------------------------------\u001b[0m",
      "\u001b[1;31mTypeError\u001b[0m                                 Traceback (most recent call last)",
      "Cell \u001b[1;32mIn[107], line 2\u001b[0m\n\u001b[0;32m      1\u001b[0m rgb \u001b[38;5;241m=\u001b[39m (\u001b[38;5;124m'\u001b[39m\u001b[38;5;124mred\u001b[39m\u001b[38;5;124m'\u001b[39m, \u001b[38;5;124m'\u001b[39m\u001b[38;5;124mgreen\u001b[39m\u001b[38;5;124m'\u001b[39m, \u001b[38;5;124m'\u001b[39m\u001b[38;5;124mblue\u001b[39m\u001b[38;5;124m'\u001b[39m)\n\u001b[1;32m----> 2\u001b[0m rgb[\u001b[38;5;241m0\u001b[39m] \u001b[38;5;241m=\u001b[39m \u001b[38;5;124m'\u001b[39m\u001b[38;5;124myellow\u001b[39m\u001b[38;5;124m'\u001b[39m\n",
      "\u001b[1;31mTypeError\u001b[0m: 'tuple' object does not support item assignment"
     ]
    }
   ],
   "source": [
    "rgb = ('red', 'green', 'blue')\n",
    "rgb[0] = 'yellow'"
   ]
  },
  {
   "cell_type": "code",
   "execution_count": 108,
   "id": "5219be48",
   "metadata": {},
   "outputs": [
    {
     "name": "stdout",
     "output_type": "stream",
     "text": [
      "<class 'int'>\n"
     ]
    }
   ],
   "source": [
    "numbers = (3)\n",
    "print(type(numbers))"
   ]
  },
  {
   "cell_type": "code",
   "execution_count": 109,
   "id": "e4d2934a",
   "metadata": {},
   "outputs": [
    {
     "name": "stdout",
     "output_type": "stream",
     "text": [
      "('red', 'green', 'blue')\n",
      "('Cyan', 'Magenta', 'Yellow', 'black')\n"
     ]
    }
   ],
   "source": [
    "colors = ('red', 'green', 'blue')\n",
    "print(colors)\n",
    "\n",
    "colors = ('Cyan', 'Magenta', 'Yellow', 'black')\n",
    "print(colors)"
   ]
  },
  {
   "cell_type": "markdown",
   "id": "601f0560",
   "metadata": {},
   "source": [
    "### Sort list"
   ]
  },
  {
   "cell_type": "code",
   "execution_count": 110,
   "id": "bf2d7d2c",
   "metadata": {},
   "outputs": [
    {
     "name": "stdout",
     "output_type": "stream",
     "text": [
      "['James', 'Jennifer', 'John', 'Mary', 'Patricia', 'Robert']\n"
     ]
    }
   ],
   "source": [
    "guests = ['James', 'Mary', 'John', 'Patricia', 'Robert', 'Jennifer']\n",
    "guests.sort()\n",
    "\n",
    "print(guests)"
   ]
  },
  {
   "cell_type": "code",
   "execution_count": 113,
   "id": "5f39a7eb",
   "metadata": {},
   "outputs": [
    {
     "name": "stdout",
     "output_type": "stream",
     "text": [
      "['Robert', 'Patricia', 'Mary', 'John', 'Jennifer', 'James']\n",
      "====\n",
      "[4, 5, 6, 7, 8, 9]\n",
      "====\n",
      "[9, 8, 7, 6, 5, 4]\n"
     ]
    }
   ],
   "source": [
    "guests = ['James', 'Mary', 'John', 'Patricia', 'Robert', 'Jennifer']\n",
    "guests.sort(reverse=True)\n",
    "\n",
    "print(guests)\n",
    "print('====')\n",
    "\n",
    "scores = [5, 7, 4, 6, 9, 8]\n",
    "scores.sort()\n",
    "\n",
    "print(scores)\n",
    "print('====')\n",
    "\n",
    "scores = [5, 7, 4, 6, 9, 8]\n",
    "scores.sort(reverse=True)\n",
    "\n",
    "print(scores)"
   ]
  },
  {
   "cell_type": "code",
   "execution_count": 115,
   "id": "ab74c6ef",
   "metadata": {},
   "outputs": [
    {
     "name": "stdout",
     "output_type": "stream",
     "text": [
      "[('Apple', 2019, 260.2), ('Google', 2019, 134.81), ('Facebook', 2019, 70.7)]\n"
     ]
    }
   ],
   "source": [
    "companies = [('Google', 2019, 134.81),\n",
    "             ('Apple', 2019, 260.2),\n",
    "             ('Facebook', 2019, 70.7)]\n",
    "\n",
    "def sort_key(company):\n",
    "    return company[2]\n",
    "\n",
    "companies.sort(key=sort_key, reverse=True)\n",
    "print(companies)"
   ]
  },
  {
   "cell_type": "code",
   "execution_count": 116,
   "id": "00b45e47",
   "metadata": {},
   "outputs": [
    {
     "name": "stdout",
     "output_type": "stream",
     "text": [
      "[('Facebook', 2019, 70.7), ('Google', 2019, 134.81), ('Apple', 2019, 260.2)]\n"
     ]
    }
   ],
   "source": [
    "companies = [('Google', 2019, 134.81),\n",
    "             ('Apple', 2019, 260.2),\n",
    "             ('Facebook', 2019, 70.7)]\n",
    "\n",
    "# sort the companies by revenue\n",
    "companies.sort(key=lambda company: company[2])\n",
    "\n",
    "# show the sorted companies\n",
    "print(companies)"
   ]
  },
  {
   "cell_type": "code",
   "execution_count": 117,
   "id": "347f0f30",
   "metadata": {},
   "outputs": [
    {
     "name": "stdout",
     "output_type": "stream",
     "text": [
      "['orange', 'yellow', 'green']\n"
     ]
    }
   ],
   "source": [
    "colors = ['red', 'orange', 'yellow', 'green', 'blue', 'indigo', 'violet']\n",
    "sub_colors = colors[1:4]\n",
    "\n",
    "print(sub_colors)\n"
   ]
  },
  {
   "cell_type": "code",
   "execution_count": 118,
   "id": "27ec403c",
   "metadata": {},
   "outputs": [
    {
     "name": "stdout",
     "output_type": "stream",
     "text": [
      "['red', 'orange', 'yellow']\n"
     ]
    }
   ],
   "source": [
    "colors = ['red', 'orange', 'yellow', 'green', 'blue', 'indigo', 'violet']\n",
    "sub_colors = colors[:3]\n",
    "\n",
    "print(sub_colors)\n"
   ]
  },
  {
   "cell_type": "code",
   "execution_count": 123,
   "id": "f14b88bf",
   "metadata": {},
   "outputs": [
    {
     "name": "stdout",
     "output_type": "stream",
     "text": [
      "['blue', 'indigo', 'violet']\n",
      "====\n",
      "['violet', 'indigo', 'blue', 'green', 'yellow', 'orange', 'red']\n",
      "====\n",
      "['black', 'white', 'yellow', 'green', 'blue', 'indigo', 'violet']\n",
      "====\n",
      "The list has 7 elements\n",
      "['black', 'white', 'gray', 'yellow', 'green', 'blue', 'indigo', 'violet']\n",
      "The list now has 8 elements\n",
      "====\n",
      "['red', 'orange', 'indigo', 'violet']\n"
     ]
    }
   ],
   "source": [
    "colors = ['red', 'orange', 'yellow', 'green', 'blue', 'indigo', 'violet']\n",
    "sub_colors = colors[-3:]\n",
    "\n",
    "print(sub_colors)\n",
    "print('====')\n",
    "\n",
    "colors = ['red', 'orange', 'yellow', 'green', 'blue', 'indigo', 'violet']\n",
    "reversed_colors = colors[::-1]\n",
    "\n",
    "print(reversed_colors)\n",
    "print('====')\n",
    "\n",
    "colors = ['red', 'orange', 'yellow', 'green', 'blue', 'indigo', 'violet']\n",
    "colors[0:2] = ['black', 'white']\n",
    "\n",
    "print(colors)\n",
    "print('====')\n",
    "\n",
    "colors = ['red', 'orange', 'yellow', 'green', 'blue', 'indigo', 'violet']\n",
    "print(f\"The list has {len(colors)} elements\")\n",
    "\n",
    "colors[0:2] = ['black', 'white', 'gray']\n",
    "print(colors)\n",
    "print(f\"The list now has {len(colors)} elements\")\n",
    "print('====')\n",
    "\n",
    "colors = ['red', 'orange', 'yellow', 'green', 'blue', 'indigo', 'violet']\n",
    "del colors[2:5]\n",
    "\n",
    "print(colors)\n"
   ]
  },
  {
   "cell_type": "code",
   "execution_count": 125,
   "id": "75a0360f",
   "metadata": {},
   "outputs": [
    {
     "name": "stdout",
     "output_type": "stream",
     "text": [
      "red\n",
      "green\n",
      "blue\n"
     ]
    }
   ],
   "source": [
    "colors = ['red', 'blue', 'green']\n",
    "\n",
    "red, blue, green = colors\n",
    "\n",
    "print(red)\n",
    "print(green)\n",
    "print(blue)"
   ]
  },
  {
   "cell_type": "code",
   "execution_count": 126,
   "id": "5111d1e9",
   "metadata": {},
   "outputs": [
    {
     "name": "stdout",
     "output_type": "stream",
     "text": [
      "red\n",
      "blue\n",
      "['green']\n"
     ]
    }
   ],
   "source": [
    "colors = ['red', 'blue', 'green']\n",
    "red, blue, *other = colors\n",
    "\n",
    "print(red)\n",
    "print(blue)\n",
    "print(other)\n"
   ]
  },
  {
   "cell_type": "code",
   "execution_count": 129,
   "id": "6a130111",
   "metadata": {},
   "outputs": [
    {
     "name": "stdout",
     "output_type": "stream",
     "text": [
      "New York\n",
      "Beijing\n",
      "Cairo\n",
      "Mumbai\n",
      "Mexico\n",
      "====\n",
      "(0, 'New York')\n",
      "(1, 'Beijing')\n",
      "(2, 'Cairo')\n",
      "(3, 'Mumbai')\n",
      "(4, 'Mexico')\n",
      "====\n",
      "0: New York\n",
      "1: Beijing\n",
      "2: Cairo\n",
      "3: Mumbai\n",
      "4: Mexico\n"
     ]
    }
   ],
   "source": [
    "cities = ['New York', 'Beijing', 'Cairo', 'Mumbai', 'Mexico']\n",
    "\n",
    "for city in cities:\n",
    "    print(city)\n",
    "print('====')\n",
    "\n",
    "cities = ['New York', 'Beijing', 'Cairo', 'Mumbai', 'Mexico']\n",
    "\n",
    "for item in enumerate(cities):\n",
    "    print(item)\n",
    "print('====')\n",
    "\n",
    "cities = ['New York', 'Beijing', 'Cairo', 'Mumbai', 'Mexico']\n",
    "\n",
    "for index, city in enumerate(cities):\n",
    "    print(f\"{index}: {city}\")"
   ]
  },
  {
   "cell_type": "code",
   "execution_count": 131,
   "id": "ad2a550f",
   "metadata": {},
   "outputs": [
    {
     "name": "stdout",
     "output_type": "stream",
     "text": [
      "3\n",
      "====\n",
      "Osaka doesn't exist in the list.\n"
     ]
    }
   ],
   "source": [
    "cities = ['New York', 'Beijing', 'Cairo', 'Mumbai', 'Mexico']\n",
    "\n",
    "result = cities.index('Mumbai')\n",
    "print(result)\n",
    "print('====')\n",
    "\n",
    "cities = ['New York', 'Beijing', 'Cairo', 'Mumbai', 'Mexico']\n",
    "city = 'Osaka'\n",
    "\n",
    "if city in cities:\n",
    "    result = cities.index(city)\n",
    "    print(f\"The {city} has an index of {result}.\")\n",
    "else:\n",
    "    print(f\"{city} doesn't exist in the list.\")\n"
   ]
  },
  {
   "cell_type": "code",
   "execution_count": 132,
   "id": "233a77d5",
   "metadata": {},
   "outputs": [
    {
     "name": "stdout",
     "output_type": "stream",
     "text": [
      "I\n",
      "t\n",
      "e\n",
      "r\n",
      "a\n",
      "b\n",
      "l\n",
      "e\n",
      "s\n"
     ]
    }
   ],
   "source": [
    "str = 'Iterables'\n",
    "for ch in str:\n",
    "    print(ch)\n"
   ]
  },
  {
   "cell_type": "code",
   "execution_count": 135,
   "id": "3ea5a0d4",
   "metadata": {},
   "outputs": [
    {
     "name": "stdout",
     "output_type": "stream",
     "text": [
      "red\n",
      "====\n",
      "red\n",
      "green\n",
      "blue\n",
      "====\n",
      "red\n",
      "green\n",
      "blue\n"
     ]
    }
   ],
   "source": [
    "colors = ['red', 'green', 'blue']\n",
    "colors_iter = iter(colors)\n",
    "\n",
    "color = next(colors_iter)\n",
    "print(color)\n",
    "print('====')\n",
    "colors = ['red', 'green', 'blue']\n",
    "colors_iter = iter(colors)\n",
    "\n",
    "color = next(colors_iter)\n",
    "print(color)\n",
    "\n",
    "color = next(colors_iter)\n",
    "print(color)\n",
    "\n",
    "color = next(colors_iter)\n",
    "print(color)\n",
    "print('====')\n",
    "\n",
    "colors = ['red', 'green', 'blue']\n",
    "iterator = iter(colors)\n",
    "\n",
    "for color in iterator:\n",
    "    print(color)\n"
   ]
  },
  {
   "cell_type": "code",
   "execution_count": 136,
   "id": "62f797d7",
   "metadata": {},
   "outputs": [
    {
     "name": "stdout",
     "output_type": "stream",
     "text": [
      "[200, 400, 600]\n"
     ]
    }
   ],
   "source": [
    "bonuses = [100, 200, 300]\n",
    "\n",
    "new_bonuses = []\n",
    "\n",
    "for bonus in bonuses:\n",
    "    new_bonuses.append(bonus*2)\n",
    "\n",
    "print(new_bonuses)\n"
   ]
  },
  {
   "cell_type": "code",
   "execution_count": 137,
   "id": "b8ca429f",
   "metadata": {},
   "outputs": [
    {
     "name": "stdout",
     "output_type": "stream",
     "text": [
      "[200, 400, 600]\n"
     ]
    }
   ],
   "source": [
    "bonuses = [100, 200, 300]\n",
    "iterator = map(lambda bonus: bonus*2, bonuses)\n",
    "print(list(iterator))"
   ]
  },
  {
   "cell_type": "code",
   "execution_count": 138,
   "id": "9bffb672",
   "metadata": {},
   "outputs": [
    {
     "name": "stdout",
     "output_type": "stream",
     "text": [
      "['David', 'Peter', 'Jenifer']\n"
     ]
    }
   ],
   "source": [
    "names = ['david', 'peter', 'jenifer']\n",
    "new_names = map(lambda name: name.capitalize(), names)\n",
    "print(list(new_names))\n"
   ]
  },
  {
   "cell_type": "code",
   "execution_count": 139,
   "id": "547d8fca",
   "metadata": {},
   "outputs": [
    {
     "name": "stdout",
     "output_type": "stream",
     "text": [
      "[['SmartPhone', 400, 40.0], ['Tablet', 450, 45.0], ['Laptop', 700, 70.0]]\n"
     ]
    }
   ],
   "source": [
    "carts = [['SmartPhone', 400],\n",
    "         ['Tablet', 450],\n",
    "         ['Laptop', 700]]\n",
    "\n",
    "TAX = 0.1\n",
    "carts = map(lambda item: [item[0], item[1], item[1] * TAX], carts)\n",
    "\n",
    "print(list(carts))"
   ]
  },
  {
   "cell_type": "code",
   "execution_count": 140,
   "id": "29939d65",
   "metadata": {},
   "outputs": [
    {
     "name": "stdout",
     "output_type": "stream",
     "text": [
      "[['China', 1394015977], ['United States', 329877505], ['India', 1326093247]]\n"
     ]
    }
   ],
   "source": [
    "countries = [\n",
    "    ['China', 1394015977],\n",
    "    ['United States', 329877505],\n",
    "    ['India', 1326093247],\n",
    "    ['Indonesia', 267026366],\n",
    "    ['Bangladesh', 162650853],\n",
    "    ['Pakistan', 233500636],\n",
    "    ['Nigeria', 214028302],\n",
    "    ['Brazil', 21171597],\n",
    "    ['Russia', 141722205],\n",
    "    ['Mexico', 128649565]\n",
    "]\n",
    "\n",
    "populated = filter(lambda c: c[1] > 300000000, countries)\n",
    "\n",
    "print(list(populated))\n"
   ]
  },
  {
   "cell_type": "code",
   "execution_count": 141,
   "id": "18167458",
   "metadata": {},
   "outputs": [
    {
     "name": "stdout",
     "output_type": "stream",
     "text": [
      "365\n"
     ]
    }
   ],
   "source": [
    "scores = [75, 65, 80, 95, 50]\n",
    "\n",
    "total = 0\n",
    "\n",
    "for score in scores:\n",
    "    total += score\n",
    "\n",
    "print(total)\n"
   ]
  },
  {
   "cell_type": "code",
   "execution_count": 142,
   "id": "043ebc0a",
   "metadata": {},
   "outputs": [
    {
     "name": "stdout",
     "output_type": "stream",
     "text": [
      "365\n"
     ]
    }
   ],
   "source": [
    "from functools import reduce\n",
    "\n",
    "scores = [75, 65, 80, 95, 50]\n",
    "total = reduce(lambda a, b: a + b, scores)\n",
    "\n",
    "print(total)"
   ]
  },
  {
   "cell_type": "code",
   "execution_count": 143,
   "id": "4105905b",
   "metadata": {},
   "outputs": [
    {
     "name": "stdout",
     "output_type": "stream",
     "text": [
      "[1, 4, 9, 16, 25]\n"
     ]
    }
   ],
   "source": [
    "numbers = [1, 2, 3, 4, 5]\n",
    "\n",
    "squares = []\n",
    "for number in numbers:\n",
    "    squares.append(number**2)\n",
    "\n",
    "print(squares)\n"
   ]
  },
  {
   "cell_type": "code",
   "execution_count": 144,
   "id": "04b7acd7",
   "metadata": {},
   "outputs": [
    {
     "name": "stdout",
     "output_type": "stream",
     "text": [
      "[1, 4, 9, 16, 25]\n"
     ]
    }
   ],
   "source": [
    "numbers = [1, 2, 3, 4, 5]\n",
    "\n",
    "squares = list(map(lambda number: number**2, numbers))\n",
    "\n",
    "print(squares)"
   ]
  },
  {
   "cell_type": "code",
   "execution_count": 145,
   "id": "8f44840e",
   "metadata": {},
   "outputs": [
    {
     "name": "stdout",
     "output_type": "stream",
     "text": [
      "[['K2', 8611], ['Everest', 8848]]\n"
     ]
    }
   ],
   "source": [
    "mountains = [\n",
    "    ['Makalu', 8485],\n",
    "    ['Lhotse', 8516],\n",
    "    ['Kanchendzonga', 8586],\n",
    "    ['K2', 8611],\n",
    "    ['Everest', 8848]\n",
    "]\n",
    "\n",
    "\n",
    "highest_mountains = list(filter(lambda m: m[1] > 8600, mountains))\n",
    "\n",
    "print(highest_mountains)"
   ]
  },
  {
   "cell_type": "code",
   "execution_count": 146,
   "id": "8b67026c",
   "metadata": {},
   "outputs": [
    {
     "name": "stdout",
     "output_type": "stream",
     "text": [
      "[['K2', 8611], ['Everest', 8848]]\n"
     ]
    }
   ],
   "source": [
    "mountains = [\n",
    "    ['Makalu', 8485],\n",
    "    ['Lhotse', 8516],\n",
    "    ['Kanchendzonga', 8586],\n",
    "    ['K2', 8611],\n",
    "    ['Everest', 8848]\n",
    "]\n",
    "\n",
    "highest_mountains = [m for m in mountains if m[1] > 8600]\n",
    "\n",
    "print(highest_mountains)"
   ]
  },
  {
   "cell_type": "markdown",
   "id": "d83bc76f",
   "metadata": {},
   "source": [
    "## Section 6"
   ]
  },
  {
   "cell_type": "code",
   "execution_count": 147,
   "id": "15d00a7b",
   "metadata": {},
   "outputs": [
    {
     "name": "stdout",
     "output_type": "stream",
     "text": [
      "<class 'dict'>\n"
     ]
    }
   ],
   "source": [
    "empty_dict = {}\n",
    "\n",
    "print(type(empty_dict))"
   ]
  },
  {
   "cell_type": "code",
   "execution_count": 148,
   "id": "393de682",
   "metadata": {},
   "outputs": [
    {
     "name": "stdout",
     "output_type": "stream",
     "text": [
      "John\n",
      "Doe\n"
     ]
    }
   ],
   "source": [
    "person = {\n",
    "    'first_name': 'John',\n",
    "    'last_name': 'Doe',\n",
    "    'age': 25,\n",
    "    'favorite_colors': ['blue', 'green'],\n",
    "    'active': True\n",
    "}\n",
    "print(person['first_name'])\n",
    "print(person['last_name'])"
   ]
  },
  {
   "cell_type": "code",
   "execution_count": 149,
   "id": "73fd1a75",
   "metadata": {},
   "outputs": [
    {
     "ename": "KeyError",
     "evalue": "'ssn'",
     "output_type": "error",
     "traceback": [
      "\u001b[1;31m---------------------------------------------------------------------------\u001b[0m",
      "\u001b[1;31mKeyError\u001b[0m                                  Traceback (most recent call last)",
      "Cell \u001b[1;32mIn[149], line 9\u001b[0m\n\u001b[0;32m      1\u001b[0m person \u001b[38;5;241m=\u001b[39m {\n\u001b[0;32m      2\u001b[0m     \u001b[38;5;124m'\u001b[39m\u001b[38;5;124mfirst_name\u001b[39m\u001b[38;5;124m'\u001b[39m: \u001b[38;5;124m'\u001b[39m\u001b[38;5;124mJohn\u001b[39m\u001b[38;5;124m'\u001b[39m,\n\u001b[0;32m      3\u001b[0m     \u001b[38;5;124m'\u001b[39m\u001b[38;5;124mlast_name\u001b[39m\u001b[38;5;124m'\u001b[39m: \u001b[38;5;124m'\u001b[39m\u001b[38;5;124mDoe\u001b[39m\u001b[38;5;124m'\u001b[39m,\n\u001b[1;32m   (...)\u001b[0m\n\u001b[0;32m      6\u001b[0m     \u001b[38;5;124m'\u001b[39m\u001b[38;5;124mactive\u001b[39m\u001b[38;5;124m'\u001b[39m: \u001b[38;5;28;01mTrue\u001b[39;00m\n\u001b[0;32m      7\u001b[0m }\n\u001b[1;32m----> 9\u001b[0m ssn \u001b[38;5;241m=\u001b[39m person[\u001b[38;5;124m'\u001b[39m\u001b[38;5;124mssn\u001b[39m\u001b[38;5;124m'\u001b[39m]\n",
      "\u001b[1;31mKeyError\u001b[0m: 'ssn'"
     ]
    }
   ],
   "source": [
    "person = {\n",
    "    'first_name': 'John',\n",
    "    'last_name': 'Doe',\n",
    "    'age': 25,\n",
    "    'favorite_colors': ['blue', 'green'],\n",
    "    'active': True\n",
    "}\n",
    "\n",
    "ssn = person['ssn']"
   ]
  },
  {
   "cell_type": "code",
   "execution_count": 150,
   "id": "f22856b3",
   "metadata": {},
   "outputs": [
    {
     "name": "stdout",
     "output_type": "stream",
     "text": [
      "None\n"
     ]
    }
   ],
   "source": [
    "person = {\n",
    "    'first_name': 'John',\n",
    "    'last_name': 'Doe',\n",
    "    'age': 25,\n",
    "    'favorite_colors': ['blue', 'green'],\n",
    "    'active': True\n",
    "}\n",
    "\n",
    "ssn = person.get('ssn')\n",
    "print(ssn)"
   ]
  },
  {
   "cell_type": "code",
   "execution_count": 151,
   "id": "a65f709b",
   "metadata": {},
   "outputs": [
    {
     "name": "stdout",
     "output_type": "stream",
     "text": [
      "{'first_name': 'John', 'last_name': 'Doe', 'age': 26, 'favorite_colors': ['blue', 'green'], 'active': True}\n"
     ]
    }
   ],
   "source": [
    "person = {\n",
    "    'first_name': 'John',\n",
    "    'last_name': 'Doe',\n",
    "    'age': 25,\n",
    "    'favorite_colors': ['blue', 'green'],\n",
    "    'active': True\n",
    "}\n",
    "\n",
    "person['age'] = 26\n",
    "\n",
    "print(person)"
   ]
  },
  {
   "cell_type": "code",
   "execution_count": 152,
   "id": "eac3a294",
   "metadata": {},
   "outputs": [
    {
     "name": "stdout",
     "output_type": "stream",
     "text": [
      "{'first_name': 'John', 'last_name': 'Doe', 'age': 25, 'favorite_colors': ['blue', 'green']}\n"
     ]
    }
   ],
   "source": [
    "person = {\n",
    "    'first_name': 'John',\n",
    "    'last_name': 'Doe',\n",
    "    'age': 25,\n",
    "    'favorite_colors': ['blue', 'green'],\n",
    "    'active': True\n",
    "}\n",
    "\n",
    "del person['active']\n",
    "print(person)"
   ]
  },
  {
   "cell_type": "code",
   "execution_count": 153,
   "id": "6bfa17d7",
   "metadata": {},
   "outputs": [
    {
     "name": "stdout",
     "output_type": "stream",
     "text": [
      "first_name: John\n",
      "last_name: Doe\n",
      "age: 25\n",
      "favorite_colors: ['blue', 'green']\n",
      "active: True\n"
     ]
    }
   ],
   "source": [
    "person = {\n",
    "    'first_name': 'John',\n",
    "    'last_name': 'Doe',\n",
    "    'age': 25,\n",
    "    'favorite_colors': ['blue', 'green'],\n",
    "    'active': True\n",
    "}\n",
    "\n",
    "for key, value in person.items():\n",
    "    print(f\"{key}: {value}\")"
   ]
  },
  {
   "cell_type": "code",
   "execution_count": 154,
   "id": "b7d4201c",
   "metadata": {},
   "outputs": [
    {
     "name": "stdout",
     "output_type": "stream",
     "text": [
      "first_name\n",
      "last_name\n",
      "age\n",
      "favorite_colors\n",
      "active\n"
     ]
    }
   ],
   "source": [
    "person = {\n",
    "    'first_name': 'John',\n",
    "    'last_name': 'Doe',\n",
    "    'age': 25,\n",
    "    'favorite_colors': ['blue', 'green'],\n",
    "    'active': True\n",
    "}\n",
    "\n",
    "for key in person.keys():\n",
    "    print(key)"
   ]
  },
  {
   "cell_type": "code",
   "execution_count": 155,
   "id": "fe8c6d12",
   "metadata": {},
   "outputs": [
    {
     "name": "stdout",
     "output_type": "stream",
     "text": [
      "John\n",
      "Doe\n",
      "25\n",
      "['blue', 'green']\n",
      "True\n"
     ]
    }
   ],
   "source": [
    "person = {\n",
    "    'first_name': 'John',\n",
    "    'last_name': 'Doe',\n",
    "    'age': 25,\n",
    "    'favorite_colors': ['blue', 'green'],\n",
    "    'active': True\n",
    "}\n",
    "\n",
    "for value in person.values():\n",
    "    print(value)\n"
   ]
  },
  {
   "cell_type": "code",
   "execution_count": 156,
   "id": "45d6e0c7",
   "metadata": {},
   "outputs": [
    {
     "name": "stdout",
     "output_type": "stream",
     "text": [
      "{'AAPL': 123.42, 'AMZN': 3447.6, 'MSFT': 223.38, 'BIIB': 285.6, 'QDEL': 271.32, 'LVGO': 146.88}\n"
     ]
    }
   ],
   "source": [
    "stocks = {\n",
    "    'AAPL': 121,\n",
    "    'AMZN': 3380,\n",
    "    'MSFT': 219,\n",
    "    'BIIB': 280,\n",
    "    'QDEL': 266,\n",
    "    'LVGO': 144\n",
    "}\n",
    "\n",
    "new_stocks = {}\n",
    "for symbol, price in stocks.items():\n",
    "    new_stocks[symbol] = price*1.02\n",
    "\n",
    "print(new_stocks)\n"
   ]
  },
  {
   "cell_type": "code",
   "execution_count": 157,
   "id": "e9b96726",
   "metadata": {},
   "outputs": [
    {
     "name": "stdout",
     "output_type": "stream",
     "text": [
      "{'AAPL': 123.42, 'AMZN': 3447.6, 'MSFT': 223.38, 'BIIB': 285.6, 'QDEL': 271.32, 'LVGO': 146.88}\n"
     ]
    }
   ],
   "source": [
    "stocks = {\n",
    "    'AAPL': 121,\n",
    "    'AMZN': 3380,\n",
    "    'MSFT': 219,\n",
    "    'BIIB': 280,\n",
    "    'QDEL': 266,\n",
    "    'LVGO': 144\n",
    "}\n",
    "\n",
    "new_stocks = {symbol: price * 1.02 for (symbol, price) in stocks.items()}\n",
    "\n",
    "print(new_stocks)"
   ]
  },
  {
   "cell_type": "code",
   "execution_count": 158,
   "id": "7c4386be",
   "metadata": {},
   "outputs": [
    {
     "name": "stdout",
     "output_type": "stream",
     "text": [
      "{'AMZN': 3380, 'MSFT': 219, 'BIIB': 280, 'QDEL': 266}\n"
     ]
    }
   ],
   "source": [
    "stocks = {\n",
    "    'AAPL': 121,\n",
    "    'AMZN': 3380,\n",
    "    'MSFT': 219,\n",
    "    'BIIB': 280,\n",
    "    'QDEL': 266,\n",
    "    'LVGO': 144\n",
    "}\n",
    "\n",
    "selected_stocks = {}\n",
    "for symbol, price in stocks.items():\n",
    "    if price > 200:\n",
    "        selected_stocks[symbol] = price\n",
    "\n",
    "print(selected_stocks)\n"
   ]
  },
  {
   "cell_type": "code",
   "execution_count": 159,
   "id": "46dc8efe",
   "metadata": {},
   "outputs": [
    {
     "name": "stdout",
     "output_type": "stream",
     "text": [
      "{'AMZN': 3380, 'MSFT': 219, 'BIIB': 280, 'QDEL': 266}\n"
     ]
    }
   ],
   "source": [
    "stocks = {\n",
    "    'AAPL': 121,\n",
    "    'AMZN': 3380,\n",
    "    'MSFT': 219,\n",
    "    'BIIB': 280,\n",
    "    'QDEL': 266,\n",
    "    'LVGO': 144\n",
    "}\n",
    "\n",
    "selected_stocks = {s: p for (s, p) in stocks.items() if p > 200}\n",
    "\n",
    "print(selected_stocks)"
   ]
  },
  {
   "cell_type": "markdown",
   "id": "a52c4742",
   "metadata": {},
   "source": [
    "## Section 7"
   ]
  },
  {
   "cell_type": "code",
   "execution_count": 160,
   "id": "a6425ba2",
   "metadata": {},
   "outputs": [
    {
     "name": "stdout",
     "output_type": "stream",
     "text": [
      "Empty sets are falsy\n"
     ]
    }
   ],
   "source": [
    "skills = set()\n",
    "\n",
    "if not skills:\n",
    "    print('Empty sets are falsy')\n"
   ]
  },
  {
   "cell_type": "code",
   "execution_count": 162,
   "id": "d0e97786",
   "metadata": {},
   "outputs": [
    {
     "name": "stdout",
     "output_type": "stream",
     "text": [
      "{'Problem solving', 'Critical Thinking'}\n"
     ]
    }
   ],
   "source": [
    "skills = set(['Problem solving','Critical Thinking'])\n",
    "print(skills)"
   ]
  },
  {
   "cell_type": "code",
   "execution_count": 163,
   "id": "5157ad65",
   "metadata": {},
   "outputs": [
    {
     "name": "stdout",
     "output_type": "stream",
     "text": [
      "{'r', 'l', 't', 'e'}\n"
     ]
    }
   ],
   "source": [
    "characters = set('letter')\n",
    "print(characters)"
   ]
  },
  {
   "cell_type": "code",
   "execution_count": 164,
   "id": "f753c1ea",
   "metadata": {},
   "outputs": [
    {
     "name": "stdout",
     "output_type": "stream",
     "text": [
      "5\n"
     ]
    }
   ],
   "source": [
    "ratings = {1, 2, 3, 4, 5}\n",
    "size = len(ratings)\n",
    "\n",
    "print(size)    "
   ]
  },
  {
   "cell_type": "code",
   "execution_count": 165,
   "id": "e236c20e",
   "metadata": {},
   "outputs": [
    {
     "name": "stdout",
     "output_type": "stream",
     "text": [
      "The set contains 1\n"
     ]
    }
   ],
   "source": [
    "ratings = {1, 2, 3, 4, 5}\n",
    "rating = 1\n",
    "\n",
    "if rating in ratings:\n",
    "    print(f'The set contains {rating}')"
   ]
  },
  {
   "cell_type": "code",
   "execution_count": 166,
   "id": "57998c91",
   "metadata": {},
   "outputs": [],
   "source": [
    "skills = {'Problem solving', 'Software design', 'Python programming'}\n",
    "if 'Java' in skills:\n",
    "    skills.remove('Java')"
   ]
  },
  {
   "cell_type": "code",
   "execution_count": 167,
   "id": "6d36928d",
   "metadata": {},
   "outputs": [
    {
     "name": "stdout",
     "output_type": "stream",
     "text": [
      "{'Software design', 'Problem solving', 'Python programming'}\n"
     ]
    }
   ],
   "source": [
    "skills = {'Problem solving', 'Software design', 'Python programming'}\n",
    "skills.discard('Java')\n",
    "\n",
    "print(skills)"
   ]
  },
  {
   "cell_type": "code",
   "execution_count": 168,
   "id": "971f8535",
   "metadata": {},
   "outputs": [
    {
     "name": "stdout",
     "output_type": "stream",
     "text": [
      "Software design\n"
     ]
    }
   ],
   "source": [
    "skills = {'Problem solving', 'Software design', 'Python programming'}\n",
    "skill = skills.pop()\n",
    "\n",
    "print(skill)"
   ]
  },
  {
   "cell_type": "code",
   "execution_count": 170,
   "id": "1991203b",
   "metadata": {},
   "outputs": [
    {
     "ename": "AttributeError",
     "evalue": "'frozenset' object has no attribute 'add'",
     "output_type": "error",
     "traceback": [
      "\u001b[1;31m---------------------------------------------------------------------------\u001b[0m",
      "\u001b[1;31mAttributeError\u001b[0m                            Traceback (most recent call last)",
      "Cell \u001b[1;32mIn[170], line 6\u001b[0m\n\u001b[0;32m      3\u001b[0m skills \u001b[38;5;241m=\u001b[39m {\u001b[38;5;124m'\u001b[39m\u001b[38;5;124mProblem solving\u001b[39m\u001b[38;5;124m'\u001b[39m, \u001b[38;5;124m'\u001b[39m\u001b[38;5;124mSoftware design\u001b[39m\u001b[38;5;124m'\u001b[39m, \u001b[38;5;124m'\u001b[39m\u001b[38;5;124mPython programming\u001b[39m\u001b[38;5;124m'\u001b[39m}\n\u001b[0;32m      4\u001b[0m skills \u001b[38;5;241m=\u001b[39m \u001b[38;5;28mfrozenset\u001b[39m(skills)\\\n\u001b[1;32m----> 6\u001b[0m skills\u001b[38;5;241m.\u001b[39madd(\u001b[38;5;124m'\u001b[39m\u001b[38;5;124mDjango\u001b[39m\u001b[38;5;124m'\u001b[39m)\n",
      "\u001b[1;31mAttributeError\u001b[0m: 'frozenset' object has no attribute 'add'"
     ]
    }
   ],
   "source": [
    "skills = {'Problem solving', 'Software design', 'Python programming'}\n",
    "skills = frozenset(skills)\n",
    "skills = {'Problem solving', 'Software design', 'Python programming'}\n",
    "skills = frozenset(skills)\\\n",
    "\n",
    "skills.add('Django')"
   ]
  },
  {
   "cell_type": "code",
   "execution_count": 171,
   "id": "c1aeb02a",
   "metadata": {},
   "outputs": [
    {
     "name": "stdout",
     "output_type": "stream",
     "text": [
      "Software design\n",
      "Problem solving\n",
      "Python programming\n"
     ]
    }
   ],
   "source": [
    "skills = {'Problem solving', 'Software design', 'Python programming'}\n",
    "\n",
    "for skill in skills:\n",
    "    print(skill)\n"
   ]
  },
  {
   "cell_type": "code",
   "execution_count": 172,
   "id": "41088cff",
   "metadata": {},
   "outputs": [
    {
     "name": "stdout",
     "output_type": "stream",
     "text": [
      "1.Software design\n",
      "2.Problem solving\n",
      "3.Python programming\n"
     ]
    }
   ],
   "source": [
    "skills = {'Problem solving', 'Software design', 'Python programming'}\n",
    "\n",
    "for index, skill in enumerate(skills, 1):\n",
    "    print(f\"{index}.{skill}\")"
   ]
  },
  {
   "cell_type": "code",
   "execution_count": 173,
   "id": "dc47095d",
   "metadata": {},
   "outputs": [
    {
     "name": "stdout",
     "output_type": "stream",
     "text": [
      "{'numpy', 'pandas', 'django'}\n"
     ]
    }
   ],
   "source": [
    "tags = {'Django', 'Pandas', 'Numpy'}\n",
    "\n",
    "lowercase_tags = set()\n",
    "for tag in tags:\n",
    "    lowercase_tags.add(tag.lower())\n",
    "\n",
    "print(lowercase_tags)"
   ]
  },
  {
   "cell_type": "code",
   "execution_count": 174,
   "id": "f0fafbaf",
   "metadata": {},
   "outputs": [
    {
     "name": "stdout",
     "output_type": "stream",
     "text": [
      "{'numpy', 'pandas', 'django'}\n"
     ]
    }
   ],
   "source": [
    "tags = {'Django', 'Pandas', 'Numpy'}\n",
    "lowercase_tags = set(map(lambda tag: tag.lower(), tags))\n",
    "\n",
    "print(lowercase_tags)"
   ]
  },
  {
   "cell_type": "code",
   "execution_count": 175,
   "id": "a974fb1a",
   "metadata": {},
   "outputs": [
    {
     "name": "stdout",
     "output_type": "stream",
     "text": [
      "{'numpy', 'pandas', 'django'}\n"
     ]
    }
   ],
   "source": [
    "tags = {'Django', 'Pandas', 'Numpy'}\n",
    "lowercase_tags = {tag.lower() for tag in tags}\n",
    "\n",
    "print(lowercase_tags)"
   ]
  },
  {
   "cell_type": "code",
   "execution_count": 176,
   "id": "48446c4e",
   "metadata": {},
   "outputs": [
    {
     "name": "stdout",
     "output_type": "stream",
     "text": [
      "{'Python', 'Java', 'C#'}\n"
     ]
    }
   ],
   "source": [
    "s1 = {'Python', 'Java'}\n",
    "s2 = {'C#', 'Java'}\n",
    "\n",
    "s = s1.union(s2)\n",
    "\n",
    "print(s)"
   ]
  },
  {
   "cell_type": "code",
   "execution_count": 177,
   "id": "e5df2c80",
   "metadata": {},
   "outputs": [
    {
     "name": "stdout",
     "output_type": "stream",
     "text": [
      "{'Python', 'Java', 'C#'}\n"
     ]
    }
   ],
   "source": [
    "s1 = {'Python', 'Java'}\n",
    "s2 = {'C#', 'Java'}\n",
    "\n",
    "s = s1 | s2\n",
    "\n",
    "print(s)"
   ]
  },
  {
   "cell_type": "code",
   "execution_count": 178,
   "id": "9aae03c5",
   "metadata": {},
   "outputs": [
    {
     "name": "stdout",
     "output_type": "stream",
     "text": [
      "{1, 2, 3, 4}\n"
     ]
    }
   ],
   "source": [
    "rates = {1, 2, 3}\n",
    "ranks = [2, 3, 4]\n",
    "\n",
    "ratings = rates.union(ranks)\n",
    "\n",
    "print(ratings)"
   ]
  },
  {
   "cell_type": "code",
   "execution_count": 180,
   "id": "50e3fdd2",
   "metadata": {},
   "outputs": [
    {
     "name": "stdout",
     "output_type": "stream",
     "text": [
      "{'Java', 'C++'}\n",
      "====\n"
     ]
    },
    {
     "ename": "TypeError",
     "evalue": "unsupported operand type(s) for &: 'set' and 'list'",
     "output_type": "error",
     "traceback": [
      "\u001b[1;31m---------------------------------------------------------------------------\u001b[0m",
      "\u001b[1;31mTypeError\u001b[0m                                 Traceback (most recent call last)",
      "Cell \u001b[1;32mIn[180], line 12\u001b[0m\n\u001b[0;32m      9\u001b[0m numbers \u001b[38;5;241m=\u001b[39m {\u001b[38;5;241m1\u001b[39m, \u001b[38;5;241m2\u001b[39m, \u001b[38;5;241m3\u001b[39m}\n\u001b[0;32m     10\u001b[0m scores \u001b[38;5;241m=\u001b[39m [\u001b[38;5;241m2\u001b[39m, \u001b[38;5;241m3\u001b[39m, \u001b[38;5;241m4\u001b[39m]\n\u001b[1;32m---> 12\u001b[0m numbers \u001b[38;5;241m=\u001b[39m numbers \u001b[38;5;241m&\u001b[39m scores\n\u001b[0;32m     14\u001b[0m \u001b[38;5;28mprint\u001b[39m(numbers)\n",
      "\u001b[1;31mTypeError\u001b[0m: unsupported operand type(s) for &: 'set' and 'list'"
     ]
    }
   ],
   "source": [
    "s1 = {'Python', 'Java', 'C++'}\n",
    "s2 = {'C#', 'Java', 'C++'}\n",
    "\n",
    "s = s1.intersection(s2)\n",
    "\n",
    "print(s)\n",
    "print('====')\n",
    "\n",
    "numbers = {1, 2, 3}\n",
    "scores = [2, 3, 4]\n",
    "\n",
    "numbers = numbers & scores\n",
    "\n",
    "print(numbers)"
   ]
  },
  {
   "cell_type": "code",
   "execution_count": 184,
   "id": "b1fc6499",
   "metadata": {},
   "outputs": [
    {
     "name": "stdout",
     "output_type": "stream",
     "text": [
      "{'Python'}\n",
      "====\n",
      "{'C#'}\n",
      "====\n",
      "{'C#'}\n",
      "====\n",
      "{8, 7}\n"
     ]
    }
   ],
   "source": [
    "s1 = {'Python', 'Java', 'C++'}\n",
    "s2 = {'C#', 'Java', 'C++'}\n",
    "s = s1.difference(s2)\n",
    "\n",
    "print(s)\n",
    "print('====')\n",
    "\n",
    "s1 = {'Python', 'Java', 'C++'}\n",
    "s2 = {'C#', 'Java', 'C++'}\n",
    "s = s2.difference(s1)\n",
    "\n",
    "print(s)\n",
    "print('====')\n",
    "\n",
    "s1 = {'Python', 'Java', 'C++'}\n",
    "s2 = {'C#', 'Java', 'C++'}\n",
    "s = s2 - s1\n",
    "\n",
    "print(s)\n",
    "print('====')\n",
    "\n",
    "scores = {7, 8, 9}\n",
    "numbers = [9, 10]\n",
    "new_scores = scores.difference(numbers)\n",
    "\n",
    "print(new_scores)"
   ]
  },
  {
   "cell_type": "code",
   "execution_count": 185,
   "id": "917fefd5",
   "metadata": {},
   "outputs": [
    {
     "name": "stdout",
     "output_type": "stream",
     "text": [
      "True\n"
     ]
    }
   ],
   "source": [
    "numbers = {1, 2, 3, 4, 5}\n",
    "\n",
    "print(numbers.issubset(numbers))"
   ]
  },
  {
   "cell_type": "code",
   "execution_count": 186,
   "id": "d6bbdf99",
   "metadata": {},
   "outputs": [
    {
     "name": "stdout",
     "output_type": "stream",
     "text": [
      "True\n",
      "True\n"
     ]
    }
   ],
   "source": [
    "numbers = {1, 2, 3, 4, 5}\n",
    "scores = {1, 2, 3}\n",
    "\n",
    "result = scores <= numbers\n",
    "print(result)  # True\n",
    "\n",
    "result = numbers <= numbers\n",
    "print(result)  # True"
   ]
  },
  {
   "cell_type": "code",
   "execution_count": 187,
   "id": "471f8b4c",
   "metadata": {},
   "outputs": [
    {
     "name": "stdout",
     "output_type": "stream",
     "text": [
      "True\n",
      "False\n"
     ]
    }
   ],
   "source": [
    "numbers = {1, 2, 3, 4, 5}\n",
    "scores = {1, 2, 3}\n",
    "\n",
    "result = numbers > scores\n",
    "print(result)  # True\n",
    "\n",
    "result = numbers > numbers\n",
    "print(result)  # True"
   ]
  },
  {
   "cell_type": "code",
   "execution_count": 188,
   "id": "af033a9a",
   "metadata": {},
   "outputs": [
    {
     "name": "stdout",
     "output_type": "stream",
     "text": [
      "True\n"
     ]
    }
   ],
   "source": [
    "letters = {'A', 'B', 'C'}\n",
    "result = letters.isdisjoint([1, 2, 3])\n",
    "\n",
    "print(result)"
   ]
  },
  {
   "cell_type": "markdown",
   "id": "87643b4f",
   "metadata": {},
   "source": [
    "## Section 8"
   ]
  },
  {
   "cell_type": "code",
   "execution_count": 191,
   "id": "85c3166d",
   "metadata": {},
   "outputs": [
    {
     "name": "stdout",
     "output_type": "stream",
     "text": [
      "Enter the net sales for\n",
      "Sales increase 9900.0%\n"
     ]
    }
   ],
   "source": [
    "try:\n",
    "    # get input net sales\n",
    "    print('Enter the net sales for')\n",
    "\n",
    "    previous = float(input('- Prior period:'))\n",
    "    current = float(input('- Current period:'))\n",
    "\n",
    "    # calculate the change in percentage\n",
    "    change = (current - previous) * 100 / previous\n",
    "\n",
    "    # show the result\n",
    "    if change > 0:\n",
    "        result = f'Sales increase {abs(change)}%'\n",
    "    else:\n",
    "        result = f'Sales decrease {abs(change)}%'\n",
    "\n",
    "    print(result)\n",
    "except ValueError:\n",
    "    print('Error! Please enter a number for net sales.')\n",
    "except ZeroDivisionError:\n",
    "    print('Error! The prior net sales cannot be zero.')\n",
    "except Exception as error:\n",
    "    print(error)"
   ]
  },
  {
   "cell_type": "code",
   "execution_count": 192,
   "id": "6148bfc1",
   "metadata": {},
   "outputs": [
    {
     "name": "stdout",
     "output_type": "stream",
     "text": [
      "5.0\n",
      "Finishing up.\n"
     ]
    }
   ],
   "source": [
    "a = 10\n",
    "b = 2\n",
    "\n",
    "try:\n",
    "    c = a / b\n",
    "    print(c)\n",
    "except ZeroDivisionError as error:\n",
    "    print(error)\n",
    "finally:\n",
    "    print('Finishing up.')\n"
   ]
  },
  {
   "cell_type": "code",
   "execution_count": 195,
   "id": "13433182",
   "metadata": {},
   "outputs": [
    {
     "name": "stdout",
     "output_type": "stream",
     "text": [
      "Your body mass index is 0.2\n",
      "This is considered underweight!\n"
     ]
    }
   ],
   "source": [
    "def calculate_bmi(height, weight):\n",
    "    \"\"\" calculate body mass index (BMI) \"\"\"\n",
    "    return weight / height**2\n",
    "\n",
    "\n",
    "def evaluate_bmi(bmi):\n",
    "    \"\"\" evaluate the bmi \"\"\"\n",
    "    if 18.5 <= bmi <= 24.9:\n",
    "        return 'healthy'\n",
    "\n",
    "    if bmi >= 25:\n",
    "        return 'overweight'\n",
    "\n",
    "    return 'underweight'\n",
    "\n",
    "\n",
    "def main():\n",
    "    try:\n",
    "        height = float(input('Enter your height (meters):'))\n",
    "        weight = float(input('Enter your weight (kilograms):'))\n",
    "\n",
    "    except ValueError as error:\n",
    "        print(error)\n",
    "    else:\n",
    "        bmi = round(calculate_bmi(height, weight), 1)\n",
    "        evaluation = evaluate_bmi(bmi)\n",
    "\n",
    "        print(f'Your body mass index is {bmi}')\n",
    "        print(f'This is considered {evaluation}!')\n",
    "\n",
    "main()"
   ]
  },
  {
   "cell_type": "code",
   "execution_count": null,
   "id": "44d5458c",
   "metadata": {},
   "outputs": [
    {
     "name": "stdout",
     "output_type": "stream",
     "text": [
      "10\n",
      "Press Ctrl-C to exit.\n",
      "Error!  does not exist.\n",
      "Press Ctrl-C to exit.\n",
      "Error! a does not exist.\n",
      "Press Ctrl-C to exit.\n",
      "Error! cc does not exist.\n",
      "Press Ctrl-C to exit.\n",
      "Error!  does not exist.\n",
      "Press Ctrl-C to exit.\n",
      "Error!  does not exist.\n",
      "Press Ctrl-C to exit.\n"
     ]
    }
   ],
   "source": [
    "fruits = {\n",
    "    'apple': 10,\n",
    "    'orange': 20,\n",
    "    'banana': 30\n",
    "}\n",
    "\n",
    "key = None\n",
    "while True:\n",
    "    try:\n",
    "        key = input('Enter a key to lookup:')\n",
    "        fruit = fruits[key.lower()]\n",
    "    except KeyError:\n",
    "        print(f'Error! {key} does not exist.')\n",
    "    except KeyboardInterrupt:\n",
    "        break\n",
    "    else:\n",
    "        print(fruit)\n",
    "    finally:\n",
    "        print('Press Ctrl-C to exit.')"
   ]
  },
  {
   "cell_type": "markdown",
   "id": "1ab6a80c",
   "metadata": {},
   "source": [
    "## Section 9"
   ]
  },
  {
   "cell_type": "code",
   "execution_count": 1,
   "id": "eab8f13d",
   "metadata": {},
   "outputs": [
    {
     "name": "stdout",
     "output_type": "stream",
     "text": [
      "Maria not found!\n"
     ]
    }
   ],
   "source": [
    "people = [{'name': 'John', 'age': 25},\n",
    "        {'name': 'Jane', 'age': 22},\n",
    "        {'name': 'Peter', 'age': 30},\n",
    "        {'name': 'Jenifer', 'age': 28}]\n",
    "\n",
    "name = 'Maria'\n",
    "\n",
    "found = False\n",
    "for person in people:\n",
    "    if person['name'] == name:\n",
    "        found = True\n",
    "        print(person)\n",
    "        break\n",
    "\n",
    "if not found:\n",
    "    print(f'{name} not found!')\n"
   ]
  },
  {
   "cell_type": "code",
   "execution_count": 3,
   "id": "29b6a90e",
   "metadata": {},
   "outputs": [
    {
     "name": "stdout",
     "output_type": "stream",
     "text": [
      "The list is empty.\n"
     ]
    }
   ],
   "source": [
    "people  = []\n",
    "\n",
    "for person in people:\n",
    "    print(person)\n",
    "else:\n",
    "    print(\"The list is empty.\")"
   ]
  },
  {
   "cell_type": "code",
   "execution_count": 4,
   "id": "afac8cf7",
   "metadata": {},
   "outputs": [
    {
     "name": "stdout",
     "output_type": "stream",
     "text": [
      "The basket has 20 apple(s)\n"
     ]
    }
   ],
   "source": [
    "basket = [\n",
    "    {'fruit': 'apple', 'qty': 20},\n",
    "    {'fruit': 'banana', 'qty': 30},\n",
    "    {'fruit': 'orange', 'qty': 10}\n",
    "]\n",
    "\n",
    "fruit = input('Enter a fruit:')\n",
    "\n",
    "index = 0\n",
    "found_it = False\n",
    "\n",
    "while index < len(basket):\n",
    "    item = basket[index]\n",
    "    # check the fruit name\n",
    "    if item['fruit'] == fruit:\n",
    "        found_it = True\n",
    "        print(f\"The basket has {item['qty']} {item['fruit']}(s)\")\n",
    "        break\n",
    "\n",
    "    index += 1\n",
    "\n",
    "if not found_it:\n",
    "    qty = int(input(f'Enter the qty for {fruit}:'))\n",
    "    basket.append({'fruit': fruit, 'qty': qty})\n",
    "    print(basket)"
   ]
  },
  {
   "cell_type": "code",
   "execution_count": 5,
   "id": "31afa5c4",
   "metadata": {},
   "outputs": [
    {
     "name": "stdout",
     "output_type": "stream",
     "text": [
      "[{'fruit': 'apple', 'qty': 20}, {'fruit': 'banana', 'qty': 30}, {'fruit': 'orange', 'qty': 10}, {'fruit': 'a', 'qty': 3}]\n"
     ]
    }
   ],
   "source": [
    "basket = [\n",
    "    {'fruit': 'apple', 'qty': 20},\n",
    "    {'fruit': 'banana', 'qty': 30},\n",
    "    {'fruit': 'orange', 'qty': 10}\n",
    "]\n",
    "\n",
    "fruit = input('Enter a fruit:')\n",
    "\n",
    "index = 0\n",
    "\n",
    "while index < len(basket):\n",
    "    item = basket[index]\n",
    "    # check the fruit name\n",
    "    if item['fruit'] == fruit:\n",
    "        print(f\"The basket has {item['qty']} {item['fruit']}(s)\")\n",
    "        found_it = True\n",
    "        break\n",
    "\n",
    "    index += 1\n",
    "else:\n",
    "    qty = int(input(f'Enter the qty for {fruit}:'))\n",
    "    basket.append({'fruit': fruit, 'qty': qty})\n",
    "    print(basket)\n"
   ]
  },
  {
   "cell_type": "code",
   "execution_count": 6,
   "id": "8a6c23ef",
   "metadata": {},
   "outputs": [
    {
     "name": "stdout",
     "output_type": "stream",
     "text": [
      "It should be bigger.\n",
      "It should be smaller.\n",
      "It should be smaller.\n",
      "It should be bigger.\n",
      "Bingo! 5 attempt(s)\n"
     ]
    }
   ],
   "source": [
    "from random import randint\n",
    "\n",
    "# determine the range\n",
    "MIN = 0\n",
    "MAX = 10\n",
    "\n",
    "# generate a secret number\n",
    "secret_number = randint(MIN, MAX)\n",
    "\n",
    "# initialize the attempt\n",
    "attempt = 0\n",
    "\n",
    "while True:\n",
    "    attempt += 1\n",
    "\n",
    "    input_number = int(input(f'Enter a number between {MIN} and {MAX}:'))\n",
    "\n",
    "    if input_number > secret_number:\n",
    "        print('It should be smaller.')\n",
    "    elif input_number < secret_number:\n",
    "        print('It should be bigger.')\n",
    "    else:\n",
    "        print(f'Bingo! {attempt} attempt(s)')\n",
    "        break\n"
   ]
  },
  {
   "cell_type": "markdown",
   "id": "9be3960d",
   "metadata": {},
   "source": [
    "## Section 10"
   ]
  },
  {
   "cell_type": "code",
   "execution_count": 10,
   "id": "6ca25201",
   "metadata": {},
   "outputs": [
    {
     "name": "stdout",
     "output_type": "stream",
     "text": [
      "x=10, y=20\n",
      "x=20, y=10\n",
      "====\n"
     ]
    }
   ],
   "source": [
    "x = 10\n",
    "y = 20\n",
    "\n",
    "print(f'x={x}, y={y}')\n",
    "\n",
    "tmp = x\n",
    "x = y\n",
    "y = tmp\n",
    "\n",
    "print(f'x={x}, y={y}')\n",
    "print('====')"
   ]
  },
  {
   "cell_type": "code",
   "execution_count": 11,
   "id": "83c685b0",
   "metadata": {},
   "outputs": [],
   "source": [
    "r, g, *other = (192, 210, 100, 0.5)"
   ]
  },
  {
   "cell_type": "code",
   "execution_count": 12,
   "id": "5a447149",
   "metadata": {},
   "outputs": [
    {
     "name": "stdout",
     "output_type": "stream",
     "text": [
      "(1, 3, 5, 2, 4, 6)\n"
     ]
    }
   ],
   "source": [
    "odd_numbers = (1, 3, 5)\n",
    "even_numbers = (2, 4, 6)\n",
    "\n",
    "numbers = (*odd_numbers, *even_numbers)\n",
    "print(numbers)"
   ]
  },
  {
   "cell_type": "code",
   "execution_count": 13,
   "id": "ee4af2e7",
   "metadata": {},
   "outputs": [
    {
     "data": {
      "text/plain": [
       "30"
      ]
     },
     "execution_count": 13,
     "metadata": {},
     "output_type": "execute_result"
    }
   ],
   "source": [
    "def add(x, y):\n",
    "    return x + y\n",
    "\n",
    "\n",
    "add(10, 20)"
   ]
  },
  {
   "cell_type": "code",
   "execution_count": 14,
   "id": "5112b944",
   "metadata": {},
   "outputs": [
    {
     "name": "stdout",
     "output_type": "stream",
     "text": [
      "100\n"
     ]
    }
   ],
   "source": [
    "def add(x, y, *args):\n",
    "    total = x + y\n",
    "    for arg in args:\n",
    "        total += arg\n",
    "\n",
    "    return total\n",
    "\n",
    "\n",
    "result = add(10, 20, 30, 40)\n",
    "print(result)"
   ]
  },
  {
   "cell_type": "code",
   "execution_count": 15,
   "id": "3b25f755",
   "metadata": {},
   "outputs": [
    {
     "name": "stdout",
     "output_type": "stream",
     "text": [
      "(1, 2, 3)\n"
     ]
    }
   ],
   "source": [
    "def add(*args):\n",
    "    print(args)\n",
    "\n",
    "\n",
    "add(1,2,3)"
   ]
  },
  {
   "cell_type": "code",
   "execution_count": 16,
   "id": "90e61aca",
   "metadata": {},
   "outputs": [
    {
     "name": "stdout",
     "output_type": "stream",
     "text": [
      "6\n"
     ]
    }
   ],
   "source": [
    "def add(*args):\n",
    "    total = 0\n",
    "    for arg in args:\n",
    "        total += arg\n",
    "    return total\n",
    "\n",
    "\n",
    "total = add(1, 2, 3)\n",
    "print(total)"
   ]
  },
  {
   "cell_type": "code",
   "execution_count": 17,
   "id": "6bf1dfd1",
   "metadata": {},
   "outputs": [
    {
     "name": "stdout",
     "output_type": "stream",
     "text": [
      "(0,0)\n"
     ]
    }
   ],
   "source": [
    "def point(x, y):\n",
    "    return f'({x},{y})'\n",
    "\n",
    "\n",
    "a = (0, 0)\n",
    "origin = point(*a)\n",
    "print(origin)"
   ]
  },
  {
   "cell_type": "code",
   "execution_count": 18,
   "id": "960b8e37",
   "metadata": {},
   "outputs": [
    {
     "name": "stdout",
     "output_type": "stream",
     "text": [
      "(1, 2)\n",
      "{'x': 10, 'y': 20}\n"
     ]
    }
   ],
   "source": [
    "def fn(*args, **kwargs):\n",
    "    print(args)\n",
    "    print(kwargs)\n",
    "\n",
    "fn(1, 2, x=10, y=20)"
   ]
  },
  {
   "cell_type": "code",
   "execution_count": 19,
   "id": "aa8c1b5c",
   "metadata": {},
   "outputs": [
    {
     "name": "stdout",
     "output_type": "stream",
     "text": [
      "20\n"
     ]
    }
   ],
   "source": [
    "def multiply(a, b):\n",
    "    return a*b\n",
    "\n",
    "\n",
    "def double(a):\n",
    "    return multiply(a, 2)\n",
    "\n",
    "\n",
    "result = double(10)\n",
    "print(result)  # 20"
   ]
  },
  {
   "cell_type": "code",
   "execution_count": 20,
   "id": "22801ffd",
   "metadata": {},
   "outputs": [
    {
     "name": "stdout",
     "output_type": "stream",
     "text": [
      "20\n",
      "20\n"
     ]
    }
   ],
   "source": [
    "from functools import partial\n",
    "\n",
    "\n",
    "def multiply(a, b):\n",
    "    return a*b\n",
    "\n",
    "\n",
    "x = 2\n",
    "f = partial(multiply, x)\n",
    "\n",
    "result = f(10)  # 20\n",
    "print(result)\n",
    "\n",
    "x = 3\n",
    "result = f(10)  # 20\n",
    "print(result)"
   ]
  },
  {
   "cell_type": "code",
   "execution_count": 21,
   "id": "0219c15f",
   "metadata": {},
   "outputs": [
    {
     "name": "stdout",
     "output_type": "stream",
     "text": [
      "Hi John\n"
     ]
    }
   ],
   "source": [
    "def say_hi(name):\n",
    "    return f'Hi {name}'\n",
    "\n",
    "\n",
    "greeting = say_hi('John')\n",
    "print(greeting)"
   ]
  },
  {
   "cell_type": "code",
   "execution_count": 22,
   "id": "5a90ef7d",
   "metadata": {},
   "outputs": [
    {
     "name": "stdout",
     "output_type": "stream",
     "text": [
      "Hi 123\n"
     ]
    }
   ],
   "source": [
    "def say_hi(name: str) -> str:\n",
    "    return f'Hi {name}'\n",
    "\n",
    "\n",
    "greeting = say_hi(123)\n",
    "print(greeting)"
   ]
  },
  {
   "cell_type": "code",
   "execution_count": null,
   "id": "bf4caa26",
   "metadata": {},
   "outputs": [],
   "source": []
  }
 ],
 "metadata": {
  "kernelspec": {
   "display_name": "base",
   "language": "python",
   "name": "python3"
  },
  "language_info": {
   "codemirror_mode": {
    "name": "ipython",
    "version": 3
   },
   "file_extension": ".py",
   "mimetype": "text/x-python",
   "name": "python",
   "nbconvert_exporter": "python",
   "pygments_lexer": "ipython3",
   "version": "3.12.7"
  }
 },
 "nbformat": 4,
 "nbformat_minor": 5
}
