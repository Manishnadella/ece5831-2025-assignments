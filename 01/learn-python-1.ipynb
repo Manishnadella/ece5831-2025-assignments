{
 "cells": [
  {
   "cell_type": "markdown",
   "id": "d0fd02ad",
   "metadata": {},
   "source": [
    "## Hello, World!"
   ]
  },
  {
   "cell_type": "code",
   "execution_count": 1,
   "id": "72e3067f",
   "metadata": {},
   "outputs": [
    {
     "name": "stdout",
     "output_type": "stream",
     "text": [
      "This is a test to check print statement\n"
     ]
    }
   ],
   "source": [
    "print(\"This is a test to check print statement\")"
   ]
  },
  {
   "cell_type": "code",
   "execution_count": 2,
   "id": "8992376b",
   "metadata": {},
   "outputs": [
    {
     "name": "stdout",
     "output_type": "stream",
     "text": [
      "x is 100\n"
     ]
    }
   ],
   "source": [
    "x=100\n",
    "if x==100:\n",
    "    print(\"x is 100\")"
   ]
  },
  {
   "cell_type": "code",
   "execution_count": 1,
   "id": "a1761c9e",
   "metadata": {},
   "outputs": [
    {
     "name": "stdout",
     "output_type": "stream",
     "text": [
      "Hello, World!\n"
     ]
    }
   ],
   "source": [
    "print(\"Hello, World!\")"
   ]
  },
  {
   "cell_type": "markdown",
   "id": "5c9950fc",
   "metadata": {},
   "source": [
    "## Variables and types"
   ]
  },
  {
   "cell_type": "code",
   "execution_count": 11,
   "id": "5fbafe10",
   "metadata": {},
   "outputs": [
    {
     "name": "stdout",
     "output_type": "stream",
     "text": [
      "This is an integer type variable: 9\n",
      "This is a float type variable: 9.99\n",
      "This is another float type variable: 9.0\n",
      "\n",
      "\n",
      "This is a string type variable: this is a type of string\n",
      "this is a string with double quotes: this is another type of string\n",
      "this is a string with single quotes in double quotes: This is a string with 'single quotes' inside double quotes\n",
      "\n",
      "\n",
      "This is addition of two integers using strings: 3\n",
      "This is string concatenation: String Concatenation\n",
      "5 10\n"
     ]
    },
    {
     "ename": "TypeError",
     "evalue": "can only concatenate str (not \"int\") to str",
     "output_type": "error",
     "traceback": [
      "\u001b[1;31m---------------------------------------------------------------------------\u001b[0m",
      "\u001b[1;31mTypeError\u001b[0m                                 Traceback (most recent call last)",
      "Cell \u001b[1;32mIn[11], line 38\u001b[0m\n\u001b[0;32m     36\u001b[0m str11 \u001b[38;5;241m=\u001b[39m \u001b[38;5;124m'\u001b[39m\u001b[38;5;124mB\u001b[39m\u001b[38;5;124m'\u001b[39m\n\u001b[0;32m     37\u001b[0m str12 \u001b[38;5;241m=\u001b[39m \u001b[38;5;241m2\u001b[39m\n\u001b[1;32m---> 38\u001b[0m str13 \u001b[38;5;241m=\u001b[39m str10 \u001b[38;5;241m+\u001b[39m str11 \u001b[38;5;241m+\u001b[39m str12\n\u001b[0;32m     39\u001b[0m \u001b[38;5;28mprint\u001b[39m(str13)\n",
      "\u001b[1;31mTypeError\u001b[0m: can only concatenate str (not \"int\") to str"
     ]
    }
   ],
   "source": [
    "# numbers\n",
    "test_int = 9\n",
    "print(\"This is an integer type variable:\", test_int)\n",
    "\n",
    "# float\n",
    "test_float = 9.99\n",
    "print(\"This is a float type variable:\", test_float)\n",
    "test_float2 = float(9)\n",
    "print(\"This is another float type variable:\", test_float2)\n",
    "\n",
    "print(\"\\n\")\n",
    "# string\n",
    "str1 = 'this is a type of string'\n",
    "print(\"This is a string type variable:\", str1)\n",
    "str2 = \"this is another type of string\"\n",
    "print(\"this is a string with double quotes:\", str2)\n",
    "str3 = \"This is a string with 'single quotes' inside double quotes\"\n",
    "print(\"this is a string with single quotes in double quotes:\", str3)\n",
    "\n",
    "print(\"\\n\")\n",
    "#Variations in srings\n",
    "str4 = 1\n",
    "str5 = 2\n",
    "str6 = str4 + str5\n",
    "print(\"This is addition of two integers using strings:\", str6)\n",
    "\n",
    "str7 = \"String\"\n",
    "str8 = \"Concatenation\"\n",
    "str9 = str7 + \" \" + str8\n",
    "print(\"This is string concatenation:\", str9)\n",
    "a,b = 5, 10\n",
    "print(a,b)\n",
    "\n",
    "# test to see error in ixing operators\n",
    "str10 = 'A'\n",
    "str11 = 'B'\n",
    "str12 = 2\n",
    "str13 = str10 + str11 + str12\n",
    "print(str13)"
   ]
  },
  {
   "cell_type": "code",
   "execution_count": 2,
   "id": "b708fad4",
   "metadata": {},
   "outputs": [
    {
     "name": "stdout",
     "output_type": "stream",
     "text": [
      "String: hello\n",
      "Float: 10.000000\n",
      "Integer: 20\n"
     ]
    }
   ],
   "source": [
    "mystring = \"hello\"\n",
    "myfloat = 10.0\n",
    "myint = 20\n",
    "\n",
    "# testing code\n",
    "if mystring == \"hello\":\n",
    "    print(\"String: %s\" % mystring)\n",
    "if isinstance(myfloat, float) and myfloat == 10.0:\n",
    "    print(\"Float: %f\" % myfloat)\n",
    "if isinstance(myint, int) and myint == 20:\n",
    "    print(\"Integer: %d\" % myint)"
   ]
  },
  {
   "cell_type": "markdown",
   "id": "cc343e27",
   "metadata": {},
   "source": [
    "## Lists"
   ]
  },
  {
   "cell_type": "code",
   "execution_count": 12,
   "id": "6428687a",
   "metadata": {},
   "outputs": [
    {
     "name": "stdout",
     "output_type": "stream",
     "text": [
      "[1, 2, 3]\n",
      "1\n",
      "2\n",
      "3\n",
      "\n",
      "\n",
      "1\n",
      "2\n",
      "3\n"
     ]
    }
   ],
   "source": [
    "l = []\n",
    "l.append(1)\n",
    "l.append(2)\n",
    "l.append(3)\n",
    "print(l)\n",
    "print(l[0])\n",
    "print(l[1])\n",
    "print(l[2])\n",
    "\n",
    "print(\"\\n\")\n",
    "\n",
    "for i in l:\n",
    "    print(i)"
   ]
  },
  {
   "cell_type": "code",
   "execution_count": 13,
   "id": "f3af1a65",
   "metadata": {},
   "outputs": [
    {
     "ename": "IndexError",
     "evalue": "list index out of range",
     "output_type": "error",
     "traceback": [
      "\u001b[1;31m---------------------------------------------------------------------------\u001b[0m",
      "\u001b[1;31mIndexError\u001b[0m                                Traceback (most recent call last)",
      "Cell \u001b[1;32mIn[13], line 2\u001b[0m\n\u001b[0;32m      1\u001b[0m \u001b[38;5;66;03m#error check\u001b[39;00m\n\u001b[1;32m----> 2\u001b[0m \u001b[38;5;28mprint\u001b[39m(l[\u001b[38;5;241m4\u001b[39m])\n",
      "\u001b[1;31mIndexError\u001b[0m: list index out of range"
     ]
    }
   ],
   "source": [
    "#error check\n",
    "print(l[4])"
   ]
  },
  {
   "cell_type": "code",
   "execution_count": 4,
   "id": "0bfedbce",
   "metadata": {},
   "outputs": [
    {
     "name": "stdout",
     "output_type": "stream",
     "text": [
      "[1, 2, 3]\n",
      "['hello', 'world']\n",
      "The second name on the names list is Eric\n"
     ]
    }
   ],
   "source": [
    "numbers = []\n",
    "strings = []\n",
    "names = [\"John\", \"Eric\", \"Jessica\"]\n",
    "\n",
    "# write your code here\n",
    "second_name = names[1]\n",
    "numbers.append(1)\n",
    "numbers.append(2)  \n",
    "numbers.append(3)\n",
    "strings.append(\"hello\")\n",
    "strings.append(\"world\")\n",
    "\n",
    "\n",
    "# this code should write out the filled arrays and the second name in the names list (Eric).\n",
    "print(numbers)\n",
    "print(strings)\n",
    "print(\"The second name on the names list is %s\" % second_name)"
   ]
  },
  {
   "cell_type": "markdown",
   "id": "04fde910",
   "metadata": {},
   "source": [
    "## Basic Operatorrs"
   ]
  },
  {
   "cell_type": "code",
   "execution_count": null,
   "id": "c3cc5f15",
   "metadata": {},
   "outputs": [
    {
     "name": "stdout",
     "output_type": "stream",
     "text": [
      "The result of the arithmatic operation is: 17.0\n",
      "The remainder of 10 divided by 3 is: 1\n",
      "The square of 5 is: 25\n",
      "The cube of 3 is: 27\n",
      "\n",
      "\n",
      "String concatenation result: Hello World\n",
      "multiple strings result: HelloHelloHello\n",
      "List concatenation result: [1, 3, 5, 7, 9, 2, 4, 6, 8, 10]\n",
      "[1, 2, 3, 1, 2, 3, 1, 2, 3]\n"
     ]
    }
   ],
   "source": [
    "opr = 10 + 5 * 2 - 3 / 1\n",
    "print(\"The result of the arithmatic operation is:\", opr)\n",
    "\n",
    "rem = 10 % 3\n",
    "print(\"The remainder of 10 divided by 3 is:\", rem)\n",
    "\n",
    "sqr = 5 ** 2\n",
    "print(\"The square of 5 is:\", sqr)\n",
    "\n",
    "cube = 3 ** 3\n",
    "print(\"The cube of 3 is:\", cube)\n",
    "\n",
    "print(\"\\n\")\n",
    "# operations with strings\n",
    "str_opr = \"Hello\" + \" \" + \"World\"\n",
    "print(\"String concatenation result:\", str_opr)\n",
    "\n",
    "str_opr2 = \"Hello\" * 3\n",
    "print(\"multiple strings result:\", str_opr2)\n",
    "\n",
    "oddl = [1,3,5,7,9]\n",
    "evenl = [2,4,6,8,10]\n",
    "numl = oddl + evenl\n",
    "print(\"List concatenation result:\", numl)\n",
    "print([1,2,3] * 3)\n",
    "\n"
   ]
  },
  {
   "cell_type": "code",
   "execution_count": 5,
   "id": "45ed8e37",
   "metadata": {},
   "outputs": [
    {
     "name": "stdout",
     "output_type": "stream",
     "text": [
      "x_list contains 10 objects\n",
      "y_list contains 10 objects\n",
      "big_list contains 20 objects\n",
      "Almost there...\n",
      "Great!\n"
     ]
    }
   ],
   "source": [
    "x = object()\n",
    "y = object()\n",
    "\n",
    "# TODO: change this code\n",
    "x_list = [x] * 10\n",
    "y_list = [y] * 10\n",
    "big_list = x_list + y_list\n",
    "\n",
    "print(\"x_list contains %d objects\" % len(x_list))\n",
    "print(\"y_list contains %d objects\" % len(y_list))\n",
    "print(\"big_list contains %d objects\" % len(big_list))\n",
    "\n",
    "# testing code\n",
    "if x_list.count(x) == 10 and y_list.count(y) == 10:\n",
    "    print(\"Almost there...\")\n",
    "if big_list.count(x) == 10 and big_list.count(y) == 10:\n",
    "    print(\"Great!\")"
   ]
  },
  {
   "cell_type": "markdown",
   "id": "caa7b725",
   "metadata": {},
   "source": [
    "## String Formatting"
   ]
  },
  {
   "cell_type": "code",
   "execution_count": 24,
   "id": "25c7c006",
   "metadata": {},
   "outputs": [
    {
     "name": "stdout",
     "output_type": "stream",
     "text": [
      "Hello Nadella\n",
      "I am Nadella and I am 22 years old\n",
      "The list is [1, 2, 3, 4, 5]\n"
     ]
    }
   ],
   "source": [
    "name = 'Nadella'\n",
    "print(\"Hello %s\" % name)\n",
    "\n",
    "age = 22\n",
    "print(\"I am %s and I am %d years old\" % (name, age))\n",
    "\n",
    "l = [1,2,3,4,5]\n",
    "print(\"The list is %s\" % l)"
   ]
  },
  {
   "cell_type": "code",
   "execution_count": 6,
   "id": "e821d7e0",
   "metadata": {},
   "outputs": [
    {
     "name": "stdout",
     "output_type": "stream",
     "text": [
      "Hello, John Doe. Your current balance is $53.44.\n"
     ]
    }
   ],
   "source": [
    "data = (\"John\", \"Doe\", 53.44)\n",
    "format_string = \"Hello, %s %s. Your current balance is $%.2f.\"\n",
    "\n",
    "print(format_string % data)"
   ]
  },
  {
   "cell_type": "markdown",
   "id": "16193832",
   "metadata": {},
   "source": [
    "## Basic String Operations"
   ]
  },
  {
   "cell_type": "code",
   "execution_count": 25,
   "id": "4eeac4f1",
   "metadata": {},
   "outputs": [
    {
     "name": "stdout",
     "output_type": "stream",
     "text": [
      "String with single quotes: Hello World\n",
      "String with double quotes: Hello World\n"
     ]
    }
   ],
   "source": [
    "astring = \"Hello World\"\n",
    "print('String with single quotes: %s' % astring)\n",
    "astring2 = 'Hello World'\n",
    "print(\"String with double quotes: %s\" % astring2)"
   ]
  },
  {
   "cell_type": "code",
   "execution_count": 1,
   "id": "9b857564",
   "metadata": {},
   "outputs": [
    {
     "name": "stdout",
     "output_type": "stream",
     "text": [
      "single quotes are ' '\n",
      "12\n"
     ]
    }
   ],
   "source": [
    "astring = \"Hello world!\"\n",
    "print(\"single quotes are ' '\")\n",
    "\n",
    "print(len(astring))"
   ]
  },
  {
   "cell_type": "code",
   "execution_count": 7,
   "id": "918e2842",
   "metadata": {},
   "outputs": [
    {
     "name": "stdout",
     "output_type": "stream",
     "text": [
      "4\n",
      "3\n",
      "lo w\n",
      "l \n",
      "lo w\n",
      "lo w\n",
      "!dlrow olleH\n",
      "HELLO WORLD!\n",
      "hello world!\n",
      "True\n",
      "False\n"
     ]
    }
   ],
   "source": [
    "astring = \"Hello world!\"\n",
    "print(astring.index(\"o\"))\n",
    "\n",
    "astring = \"Hello world!\"\n",
    "print(astring.count(\"l\"))\n",
    "\n",
    "astring = \"Hello world!\"\n",
    "print(astring[3:7])\n",
    "\n",
    "astring = \"Hello world!\"\n",
    "print(astring[3:7:2])\n",
    "\n",
    "astring = \"Hello world!\"\n",
    "print(astring[3:7])\n",
    "print(astring[3:7:1])\n",
    "\n",
    "astring = \"Hello world!\"\n",
    "print(astring[::-1])\n",
    "\n",
    "astring = \"Hello world!\"\n",
    "print(astring.upper())\n",
    "print(astring.lower())\n",
    "\n",
    "astring = \"Hello world!\"\n",
    "print(astring.startswith(\"Hello\"))\n",
    "print(astring.endswith(\"asdfasdfasdf\"))\n",
    "\n",
    "astring = \"Hello world!\"\n",
    "afewwords = astring.split(\" \")"
   ]
  },
  {
   "cell_type": "code",
   "execution_count": 7,
   "id": "c9933be8",
   "metadata": {},
   "outputs": [
    {
     "name": "stdout",
     "output_type": "stream",
     "text": [
      "Length of s = 20\n",
      "The first occurrence of the letter a = 8\n",
      "a occurs 2 times\n",
      "The first five characters are 'Strin'\n",
      "The next five characters are 'gs ar'\n",
      "The thirteenth character is 'a'\n",
      "The characters with odd index are 'tig r wsm!'\n",
      "The last five characters are 'some!'\n",
      "String in uppercase: STRINGS ARE AWESOME!\n",
      "String in lowercase: strings are awesome!\n",
      "String starts with 'Str'. Good!\n",
      "String ends with 'ome!'. Good!\n",
      "Split the words of the string: ['Strings', 'are', 'awesome!']\n"
     ]
    }
   ],
   "source": [
    "s = \"Strings are awesome!\"\n",
    "# Length should be 20\n",
    "print(\"Length of s = %d\" % len(s))\n",
    "\n",
    "# First occurrence of \"a\" should be at index 8\n",
    "print(\"The first occurrence of the letter a = %d\" % s.index(\"a\"))\n",
    "\n",
    "# Number of a's should be 2\n",
    "print(\"a occurs %d times\" % s.count(\"a\"))\n",
    "\n",
    "# Slicing the string into bits\n",
    "print(\"The first five characters are '%s'\" % s[:5]) # Start to 5\n",
    "print(\"The next five characters are '%s'\" % s[5:10]) # 5 to 10\n",
    "print(\"The thirteenth character is '%s'\" % s[12]) # Just number 12\n",
    "print(\"The characters with odd index are '%s'\" %s[1::2]) #(0-based indexing)\n",
    "print(\"The last five characters are '%s'\" % s[-5:]) # 5th-from-last to end\n",
    "\n",
    "# Convert everything to uppercase\n",
    "print(\"String in uppercase: %s\" % s.upper())\n",
    "\n",
    "# Convert everything to lowercase\n",
    "print(\"String in lowercase: %s\" % s.lower())\n",
    "\n",
    "# Check how a string starts\n",
    "if s.startswith(\"Str\"):\n",
    "    print(\"String starts with 'Str'. Good!\")\n",
    "\n",
    "# Check how a string ends\n",
    "if s.endswith(\"ome!\"):\n",
    "    print(\"String ends with 'ome!'. Good!\")\n",
    "\n",
    "# Split the string into three separate strings,\n",
    "# each containing only a word\n",
    "print(\"Split the words of the string: %s\" % s.split(\" \"))"
   ]
  },
  {
   "cell_type": "markdown",
   "id": "83cd6f5b",
   "metadata": {},
   "source": [
    "## Conditions"
   ]
  },
  {
   "cell_type": "code",
   "execution_count": 15,
   "id": "719ae87e",
   "metadata": {},
   "outputs": [
    {
     "name": "stdout",
     "output_type": "stream",
     "text": [
      "True\n",
      "False\n",
      "True\n",
      "Hi John, and you are also 23 years old.\n",
      "Your name is either John or Doe.\n",
      "Your name is either John or Eric.\n",
      "x does not equal to two.\n",
      "True\n",
      "False\n",
      "\n",
      "\n",
      "Not operation tests\n",
      "True\n",
      "False\n"
     ]
    }
   ],
   "source": [
    "x = 2\n",
    "print(x == 2)\n",
    "print(x == 3)\n",
    "print(x < 3)\n",
    "\n",
    "# Boolean operators\n",
    "\n",
    "name = \"John\"\n",
    "age = 23\n",
    "if name == \"John\" and age == 23:\n",
    "    print(\"Hi John, and you are also 23 years old.\")\n",
    "\n",
    "if name == \"John\" or name == \"Doe\":\n",
    "    print(\"Your name is either John or Doe.\")\n",
    "\n",
    "name = \"John\"\n",
    "if name in [\"John\", \"Eric\"]:\n",
    "    print(\"Your name is either John or Eric.\")\n",
    "\n",
    "x = 10\n",
    "if x == 2:\n",
    "    print(\"x equals two!\")\n",
    "else:\n",
    "    print(\"x does not equal to two.\")\n",
    "\n",
    "x = [1,2,3]\n",
    "y = [1,2,3]\n",
    "print(x == y)\n",
    "print(x is y)\n",
    "\n",
    "print('\\n')\n",
    "print('Not operation tests')\n",
    "print(not False)\n",
    "print((not False) == (False))"
   ]
  },
  {
   "cell_type": "code",
   "execution_count": null,
   "id": "9fbff1cc",
   "metadata": {},
   "outputs": [
    {
     "name": "stdout",
     "output_type": "stream",
     "text": [
      "1\n",
      "2\n",
      "3\n",
      "4\n",
      "5\n",
      "6\n"
     ]
    }
   ],
   "source": [
    "number = 20\n",
    "second_number = 0\n",
    "first_array = [1,8,6]\n",
    "second_array = [1,2]\n",
    "\n",
    "if number > 15:\n",
    "    print(\"1\")\n",
    "\n",
    "if first_array:\n",
    "    print(\"2\")\n",
    "\n",
    "if len(second_array) == 2:\n",
    "    print(\"3\")\n",
    "\n",
    "if len(first_array) + len(second_array) == 5:\n",
    "    print(\"4\")\n",
    "\n",
    "if first_array and first_array[0] == 1:\n",
    "    print(\"5\")\n",
    "\n",
    "if not second_number:\n",
    "    print(\"6\")"
   ]
  },
  {
   "cell_type": "markdown",
   "id": "8b4aec24",
   "metadata": {},
   "source": [
    "## Loops"
   ]
  },
  {
   "cell_type": "code",
   "execution_count": 19,
   "id": "134d7840",
   "metadata": {},
   "outputs": [
    {
     "name": "stdout",
     "output_type": "stream",
     "text": [
      "2\n",
      "3\n",
      "5\n",
      "7\n",
      "====\n",
      "0\n",
      "1\n",
      "2\n",
      "3\n",
      "4\n",
      "====\n",
      "3\n",
      "4\n",
      "5\n",
      "====\n",
      "3\n",
      "5\n",
      "7\n"
     ]
    }
   ],
   "source": [
    "# for loop\n",
    "primes = [2, 3, 5, 7]\n",
    "for prime in primes:\n",
    "    print(prime)\n",
    "\n",
    "print('====')\n",
    "\n",
    "# Prints out 0 to 4\n",
    "for x in range(5):\n",
    "    print(x)\n",
    "print('====')\n",
    "# Prints out 3,4,5\n",
    "for x in range(3, 6):\n",
    "    print(x)\n",
    "print('====')\n",
    "# Prints out 3,5,7\n",
    "for x in range(3, 8, 2):\n",
    "    print(x)"
   ]
  },
  {
   "cell_type": "code",
   "execution_count": 23,
   "id": "cb609e63",
   "metadata": {},
   "outputs": [
    {
     "name": "stdout",
     "output_type": "stream",
     "text": [
      "0\n",
      "1\n",
      "2\n",
      "3\n",
      "4\n",
      "====\n",
      "0\n",
      "1\n",
      "2\n",
      "3\n",
      "4\n",
      "====\n",
      "1\n",
      "3\n",
      "5\n",
      "7\n",
      "9\n"
     ]
    }
   ],
   "source": [
    "# while loop\n",
    "count = 0\n",
    "while count < 5:\n",
    "    print(count)\n",
    "    count += 1\n",
    "\n",
    "print('====')\n",
    "# break and continue\n",
    "\n",
    "# Prints out 0,1,2,3,4\n",
    "\n",
    "count = 0\n",
    "while True:\n",
    "    print(count)\n",
    "    \n",
    "    count += 1\n",
    "    if count >= 5:\n",
    "        break\n",
    "print('====')\n",
    "# Prints out only odd numbers - 1,3,5,7,9\n",
    "for x in range(10):\n",
    "    # Check if x is even\n",
    "    if x % 2 == 0:\n",
    "        continue\n",
    "    print(x)"
   ]
  },
  {
   "cell_type": "code",
   "execution_count": 24,
   "id": "26a63012",
   "metadata": {},
   "outputs": [
    {
     "name": "stdout",
     "output_type": "stream",
     "text": [
      "0\n",
      "1\n",
      "2\n",
      "3\n",
      "4\n",
      "count value reached 5\n",
      "1\n",
      "2\n",
      "3\n",
      "4\n"
     ]
    }
   ],
   "source": [
    "count=0\n",
    "while(count<5):\n",
    "    print(count)\n",
    "    count +=1\n",
    "else:\n",
    "    print(\"count value reached %d\" %(count))\n",
    "\n",
    "# Prints out 1,2,3,4\n",
    "for i in range(1, 10):\n",
    "    if(i%5==0):\n",
    "        break\n",
    "    print(i)\n",
    "else:\n",
    "    print(\"this is not printed because for loop is terminated because of break but not due to fail in condition\")"
   ]
  },
  {
   "cell_type": "markdown",
   "id": "8638e052",
   "metadata": {},
   "source": [
    "## Functions"
   ]
  },
  {
   "cell_type": "code",
   "execution_count": 28,
   "id": "b5ba5158",
   "metadata": {},
   "outputs": [
    {
     "name": "stdout",
     "output_type": "stream",
     "text": [
      "Hello From my_func!\n",
      "====\n",
      "Hello Manish, I wish you Good Luck\n",
      "====\n"
     ]
    },
    {
     "data": {
      "text/plain": [
       "3789255"
      ]
     },
     "execution_count": 28,
     "metadata": {},
     "output_type": "execute_result"
    }
   ],
   "source": [
    "def my_func():\n",
    "    print(\"Hello From my_func!\")\n",
    "my_func()\n",
    "\n",
    "print(\"====\")\n",
    "\n",
    "def my_func_args(user,greeting):\n",
    "    print(\"Hello %s, I wish you %s\"%(user,greeting))\n",
    "my_func_args(\"Manish\",\"Good Luck\")\n",
    "\n",
    "print(\"====\")\n",
    "\n",
    "def add(num1,num2):\n",
    "    return num1+num2\n",
    "add(190,3789065)"
   ]
  },
  {
   "cell_type": "code",
   "execution_count": 9,
   "id": "2bbeb83f",
   "metadata": {},
   "outputs": [
    {
     "name": "stdout",
     "output_type": "stream",
     "text": [
      "402\n",
      "984\n",
      "360\n",
      "408\n",
      "980\n",
      "544\n",
      "390\n",
      "984\n",
      "592\n",
      "236\n",
      "942\n",
      "386\n",
      "462\n",
      "418\n",
      "344\n",
      "236\n",
      "566\n",
      "978\n",
      "328\n",
      "162\n",
      "758\n",
      "918\n"
     ]
    }
   ],
   "source": [
    "numbers = [\n",
    "    951, 402, 984, 651, 360, 69, 408, 319, 601, 485, 980, 507, 725, 547, 544,\n",
    "    615, 83, 165, 141, 501, 263, 617, 865, 575, 219, 390, 984, 592, 236, 105, 942, 941,\n",
    "    386, 462, 47, 418, 907, 344, 236, 375, 823, 566, 597, 978, 328, 615, 953, 345,\n",
    "    399, 162, 758, 219, 918, 237, 412, 566, 826, 248, 866, 950, 626, 949, 687, 217,\n",
    "    815, 67, 104, 58, 512, 24, 892, 894, 767, 553, 81, 379, 843, 831, 445, 742, 717,\n",
    "    958, 609, 842, 451, 688, 753, 854, 685, 93, 857, 440, 380, 126, 721, 328, 753, 470,\n",
    "    743, 527\n",
    "]\n",
    "\n",
    "# your code goes here\n",
    "for number in numbers:\n",
    "    if number == 237:\n",
    "        break\n",
    "    if number % 2 == 0:\n",
    "        print(number)"
   ]
  },
  {
   "cell_type": "markdown",
   "id": "5c16acb2",
   "metadata": {},
   "source": [
    "## Classes and Objects"
   ]
  },
  {
   "cell_type": "code",
   "execution_count": 32,
   "id": "c128d755",
   "metadata": {},
   "outputs": [
    {
     "name": "stdout",
     "output_type": "stream",
     "text": [
      "blah\n",
      "====\n",
      "blah\n",
      "yackity\n",
      "====\n",
      "This is a message inside the class.\n"
     ]
    }
   ],
   "source": [
    "class my_class:\n",
    "    variable = \"blah\"\n",
    "    \n",
    "    def function(self):\n",
    "        print(\"This is a message inside the class.\")\n",
    "\n",
    "myobjectx = my_class()\n",
    "print(myobjectx.variable)\n",
    "print('====')\n",
    "\n",
    "myobjectx = my_class()\n",
    "myobjecty = my_class()\n",
    "\n",
    "myobjecty.variable = \"yackity\"\n",
    "print(myobjectx.variable)\n",
    "print(myobjecty.variable)\n",
    "print('====')\n",
    "myobjectx = my_class()\n",
    "myobjectx.function()"
   ]
  },
  {
   "cell_type": "code",
   "execution_count": 33,
   "id": "1de95cc2",
   "metadata": {},
   "outputs": [
    {
     "name": "stdout",
     "output_type": "stream",
     "text": [
      "10\n"
     ]
    }
   ],
   "source": [
    "# __init__ fnction\n",
    "\n",
    "class numhold():\n",
    "    def __init__(self, number):\n",
    "        self.number = number\n",
    "    \n",
    "    def return_num(self):\n",
    "        return self.number\n",
    "\n",
    "num = numhold(10)\n",
    "print(num.return_num())"
   ]
  },
  {
   "cell_type": "code",
   "execution_count": 10,
   "id": "6779ee28",
   "metadata": {},
   "outputs": [
    {
     "name": "stdout",
     "output_type": "stream",
     "text": [
      "Fer is a red convertible worth $60000.00.\n",
      "Jump is a blue van worth $10000.00.\n"
     ]
    }
   ],
   "source": [
    "# define the Vehicle class\n",
    "class Vehicle:\n",
    "    name = \"\"\n",
    "    kind = \"car\"\n",
    "    color = \"\"\n",
    "    value = 100.00\n",
    "    def description(self):\n",
    "        desc_str = \"%s is a %s %s worth $%.2f.\" % (self.name, self.color, self.kind, self.value)\n",
    "        return desc_str\n",
    "# your code goes here\n",
    "car1 = Vehicle()\n",
    "car1.name = \"Fer\"  \n",
    "car1.color = \"red\"\n",
    "car1.kind = \"convertible\"\n",
    "car1.value = 60000.00\n",
    "car2 = Vehicle()\n",
    "car2.name = \"Jump\"  \n",
    "car2.color = \"blue\"\n",
    "car2.kind = \"van\"\n",
    "car2.value = 10000.00\n",
    "\n",
    "# test code\n",
    "print(car1.description())\n",
    "print(car2.description())"
   ]
  },
  {
   "cell_type": "markdown",
   "id": "32f0ad0e",
   "metadata": {},
   "source": [
    "## Dictionaries"
   ]
  },
  {
   "cell_type": "code",
   "execution_count": 38,
   "id": "2ccce5e2",
   "metadata": {},
   "outputs": [
    {
     "name": "stdout",
     "output_type": "stream",
     "text": [
      "{'John': 875647987, 'Jack': 645364536, 'Jill': 908765345}\n",
      "====\n",
      "{'John': 875647987, 'Jack': 645364536, 'Jill': 908765345}\n",
      "====\n",
      "Phone number of John is 875647987\n",
      "Phone number of Jack is 645364536\n",
      "Phone number of Jill is 908765345\n",
      "====\n",
      "{'Jack': 645364536, 'Jill': 908765345}\n",
      "====\n",
      "{'Jack': 645364536}\n",
      "====\n"
     ]
    }
   ],
   "source": [
    "phonebook = {}\n",
    "phonebook[\"John\"] = 875647987\n",
    "phonebook[\"Jack\"] = 645364536\n",
    "phonebook[\"Jill\"] = 908765345\n",
    "print(phonebook)\n",
    "print('====')\n",
    "# another approach\n",
    "phonebook = {\n",
    "    \"John\" : 875647987,\n",
    "    \"Jack\" : 645364536,\n",
    "    \"Jill\" : 908765345\n",
    "}\n",
    "print(phonebook)\n",
    "print('====')\n",
    "for name, number in phonebook.items():\n",
    "    print(\"Phone number of %s is %d\" % (name, number))\n",
    "print('====')\n",
    "#delete entry\n",
    "del phonebook[\"John\"]\n",
    "print(phonebook)\n",
    "print('====')\n",
    "\n",
    "# delete approach 2\n",
    "phonebook.pop(\"Jill\")\n",
    "print(phonebook)\n",
    "print('====')\n",
    "\n"
   ]
  },
  {
   "cell_type": "code",
   "execution_count": 11,
   "id": "a1bb18b9",
   "metadata": {},
   "outputs": [
    {
     "name": "stdout",
     "output_type": "stream",
     "text": [
      "Jake is listed in the phonebook.\n",
      "Jill is not listed in the phonebook.\n"
     ]
    }
   ],
   "source": [
    "phonebook = {  \n",
    "    \"John\" : 938477566,\n",
    "    \"Jack\" : 938377264,\n",
    "    \"Jill\" : 947662781\n",
    "}  \n",
    "# your code goes here\n",
    "phonebook[\"Jake\"] = 938273443\n",
    "phonebook.pop(\"Jill\")\n",
    "\n",
    "# testing code\n",
    "if \"Jake\" in phonebook:  \n",
    "    print(\"Jake is listed in the phonebook.\")\n",
    "    \n",
    "if \"Jill\" not in phonebook:      \n",
    "    print(\"Jill is not listed in the phonebook.\")"
   ]
  },
  {
   "cell_type": "markdown",
   "id": "220541b1",
   "metadata": {},
   "source": [
    "## Modules and Packages"
   ]
  },
  {
   "cell_type": "code",
   "execution_count": null,
   "id": "87e035ec",
   "metadata": {},
   "outputs": [],
   "source": [
    "# game.py\n",
    "# import the draw module\n",
    "import draw\n",
    "\n",
    "def play_game():\n",
    "    pass\n",
    "\n",
    "def main():\n",
    "    result = play_game()\n",
    "    draw.draw_game(result)\n",
    "\n",
    "# this means that if this script is executed, then \n",
    "# main() will be executed\n",
    "if __name__ == '__main__':\n",
    "    main()"
   ]
  },
  {
   "cell_type": "code",
   "execution_count": null,
   "id": "cd3587c3",
   "metadata": {},
   "outputs": [],
   "source": [
    "# game.py\n",
    "# import the draw module\n",
    "from draw import draw_game\n",
    "\n",
    "def main():\n",
    "    result = play_game()\n",
    "    draw_game(result)"
   ]
  },
  {
   "cell_type": "code",
   "execution_count": null,
   "id": "728f0649",
   "metadata": {},
   "outputs": [],
   "source": [
    "# game.py\n",
    "# import the draw module\n",
    "from draw import *\n",
    "\n",
    "def main():\n",
    "    result = play_game()\n",
    "    draw_game(result)"
   ]
  },
  {
   "cell_type": "code",
   "execution_count": null,
   "id": "a1aa0c96",
   "metadata": {},
   "outputs": [],
   "source": [
    "# game.py\n",
    "# import the draw module\n",
    "visual_mode = True\n",
    "if visual_mode:\n",
    "    # in visual mode, we draw using graphics\n",
    "    import draw_visual as draw\n",
    "else:\n",
    "    # in textual mode, we print out text\n",
    "    import draw_textual as draw\n",
    "\n",
    "def main():\n",
    "    result = play_game()\n",
    "    # this can either be visual or textual depending on visual_mode\n",
    "    draw.draw_game(result)"
   ]
  },
  {
   "cell_type": "code",
   "execution_count": null,
   "id": "c553add3",
   "metadata": {},
   "outputs": [],
   "source": [
    "# draw.py\n",
    "\n",
    "def draw_game():\n",
    "    # when clearing the screen we can use the main screen object initialized in this module\n",
    "    clear_screen(main_screen)\n",
    "    ...\n",
    "\n",
    "def clear_screen(screen):\n",
    "    ...\n",
    "\n",
    "class Screen():\n",
    "    ...\n",
    "\n",
    "# initialize main_screen as a singleton\n",
    "main_screen = Screen()"
   ]
  },
  {
   "cell_type": "code",
   "execution_count": null,
   "id": "b046b561",
   "metadata": {},
   "outputs": [],
   "source": [
    "import sys\n",
    "sys.path.append(\"/foo\")"
   ]
  },
  {
   "cell_type": "code",
   "execution_count": 14,
   "id": "e9055718",
   "metadata": {},
   "outputs": [
    {
     "name": "stdout",
     "output_type": "stream",
     "text": [
      "200\n"
     ]
    }
   ],
   "source": [
    "# import the library\n",
    "import urllib.request\n",
    "\n",
    "# use it\n",
    "response = urllib.request.urlopen(\"http://www.google.com\")\n",
    "print(response.status)  # prints the HTTP status code, e.g., 200"
   ]
  },
  {
   "cell_type": "code",
   "execution_count": 15,
   "id": "ebfb36c1",
   "metadata": {},
   "outputs": [
    {
     "data": {
      "text/plain": [
       "['__builtins__',\n",
       " '__cached__',\n",
       " '__doc__',\n",
       " '__file__',\n",
       " '__loader__',\n",
       " '__name__',\n",
       " '__package__',\n",
       " '__path__',\n",
       " '__spec__',\n",
       " 'error',\n",
       " 'parse',\n",
       " 'request',\n",
       " 'response']"
      ]
     },
     "execution_count": 15,
     "metadata": {},
     "output_type": "execute_result"
    }
   ],
   "source": [
    "import urllib\n",
    "dir(urllib)"
   ]
  },
  {
   "cell_type": "code",
   "execution_count": 16,
   "id": "0c9ad60d",
   "metadata": {},
   "outputs": [
    {
     "name": "stdout",
     "output_type": "stream",
     "text": [
      "['findall', 'finditer']\n"
     ]
    }
   ],
   "source": [
    "import re\n",
    "\n",
    "# Your code goes here\n",
    "find_members = []\n",
    "for member in dir(re):\n",
    "    if \"find\" in member:\n",
    "        find_members.append(member)\n",
    "print(sorted(find_members))"
   ]
  },
  {
   "cell_type": "markdown",
   "id": "3c76acb2",
   "metadata": {},
   "source": [
    "## Input and Output"
   ]
  },
  {
   "cell_type": "code",
   "execution_count": 48,
   "id": "b690eeac",
   "metadata": {},
   "outputs": [
    {
     "name": "stdout",
     "output_type": "stream",
     "text": [
      "hello\n",
      "====\n",
      "10\n",
      "====\n",
      "10.0\n"
     ]
    }
   ],
   "source": [
    "astring = input()\n",
    "print(astring)\n",
    "print('====')\n",
    "#type convert\n",
    "num = int(input())\n",
    "print(num)\n",
    "print('====')\n",
    "decimal = float(num)\n",
    "print(decimal)"
   ]
  },
  {
   "cell_type": "code",
   "execution_count": 51,
   "id": "7abb234c",
   "metadata": {},
   "outputs": [
    {
     "name": "stdout",
     "output_type": "stream",
     "text": [
      "2 4 12\n"
     ]
    }
   ],
   "source": [
    "a, b = map(int, input().split())\n",
    "array = input().split()\n",
    "sum = 0\n",
    "for each in array:\n",
    "    sum = sum + int(each)\n",
    "print(a, b, sum)"
   ]
  },
  {
   "cell_type": "code",
   "execution_count": 52,
   "id": "791a8d69",
   "metadata": {},
   "outputs": [
    {
     "name": "stdout",
     "output_type": "stream",
     "text": [
      "a is : 5, b is 0.6300,c is hello\n"
     ]
    }
   ],
   "source": [
    "# output formatting\n",
    "a = 5\n",
    "b = 0.63\n",
    "c = \"hello\"\n",
    "print(\"a is : %d, b is %0.4f,c is %s\" % (a,b,c))"
   ]
  },
  {
   "cell_type": "code",
   "execution_count": 13,
   "id": "ba6225c0",
   "metadata": {},
   "outputs": [
    {
     "name": "stdout",
     "output_type": "stream",
     "text": [
      "Hello, my name is manish, I am 18 years old, and I am from US.\n"
     ]
    }
   ],
   "source": [
    "# Taking the name input using input()\n",
    "name = input(\"Enter your name: \")\n",
    "\n",
    "# Taking the age input using input() and converting it to integer\n",
    "age = int(input(\"Enter your age: \"))\n",
    "\n",
    "# Taking the country input using input()\n",
    "country = input(\"Enter your country: \")\n",
    "\n",
    "# Displaying the formatted sentence with name, age, and country\n",
    "print(\"Hello, my name is {}, I am {} years old, and I am from {}.\".format(name, age, country))"
   ]
  },
  {
   "cell_type": "code",
   "execution_count": null,
   "id": "0f34b865",
   "metadata": {},
   "outputs": [],
   "source": []
  }
 ],
 "metadata": {
  "kernelspec": {
   "display_name": "base",
   "language": "python",
   "name": "python3"
  },
  "language_info": {
   "codemirror_mode": {
    "name": "ipython",
    "version": 3
   },
   "file_extension": ".py",
   "mimetype": "text/x-python",
   "name": "python",
   "nbconvert_exporter": "python",
   "pygments_lexer": "ipython3",
   "version": "3.12.7"
  }
 },
 "nbformat": 4,
 "nbformat_minor": 5
}
