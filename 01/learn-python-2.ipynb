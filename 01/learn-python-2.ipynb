{
 "cells": [
  {
   "cell_type": "markdown",
   "id": "cde8d1c4",
   "metadata": {},
   "source": [
    "# Advanced Python"
   ]
  },
  {
   "cell_type": "markdown",
   "id": "4346abdf",
   "metadata": {},
   "source": [
    "## Generators"
   ]
  },
  {
   "cell_type": "code",
   "execution_count": 1,
   "id": "45083e73",
   "metadata": {},
   "outputs": [
    {
     "name": "stdout",
     "output_type": "stream",
     "text": [
      "And the next number is... 27!\n",
      "And the next number is... 4!\n",
      "And the next number is... 9!\n",
      "And the next number is... 31!\n",
      "And the next number is... 18!\n",
      "And the next number is... 4!\n",
      "And the next number is... 10!\n"
     ]
    }
   ],
   "source": [
    "import random\n",
    "\n",
    "def lottery():\n",
    "    # returns 6 numbers between 1 and 40\n",
    "    for i in range(6):\n",
    "        yield random.randint(1, 40)\n",
    "\n",
    "    # returns a 7th number between 1 and 15\n",
    "    yield random.randint(1, 15)\n",
    "\n",
    "for random_number in lottery():\n",
    "       print(\"And the next number is... %d!\" %(random_number))"
   ]
  },
  {
   "cell_type": "code",
   "execution_count": 1,
   "id": "eb97ad3a",
   "metadata": {},
   "outputs": [
    {
     "name": "stdout",
     "output_type": "stream",
     "text": [
      "Good, The fib function is a generator.\n",
      "0\n",
      "1\n",
      "1\n",
      "2\n",
      "3\n",
      "5\n",
      "8\n",
      "13\n",
      "21\n",
      "34\n"
     ]
    }
   ],
   "source": [
    "# fill in this function\n",
    "def fib():\n",
    "    a, b = 0, 1\n",
    "    while True:\n",
    "        yield a\n",
    "        a, b = b, a + b\n",
    "    \n",
    "\n",
    "# testing code\n",
    "import types\n",
    "if type(fib()) == types.GeneratorType:\n",
    "    print(\"Good, The fib function is a generator.\")\n",
    "\n",
    "    counter = 0\n",
    "    for n in fib():\n",
    "        print(n)\n",
    "        counter += 1\n",
    "        if counter == 10:\n",
    "            break"
   ]
  },
  {
   "cell_type": "markdown",
   "id": "ddc01623",
   "metadata": {},
   "source": [
    "## List Comprehension"
   ]
  },
  {
   "cell_type": "code",
   "execution_count": 4,
   "id": "5286f7f0",
   "metadata": {},
   "outputs": [
    {
     "name": "stdout",
     "output_type": "stream",
     "text": [
      "['the', 'quick', 'brown', 'fox', 'jumps', 'over', 'the', 'lazy', 'dog']\n",
      "[5, 5, 3, 5, 4, 4, 3]\n",
      "====\n",
      "[5, 5, 3, 5, 4, 4, 3]\n"
     ]
    }
   ],
   "source": [
    "sentence = \"the quick brown fox jumps over the lazy dog\"\n",
    "words = sentence.split()\n",
    "word_lengths = []\n",
    "for word in words:\n",
    "      if word != \"the\":\n",
    "          word_lengths.append(len(word))\n",
    "print(words)\n",
    "print(word_lengths)\n",
    "print('====')\n",
    "# implementing the same using list comprehension\n",
    "word_lengths_LC = [len(word) for word in words if word != \"the\"]\n",
    "print(word_lengths_LC)"
   ]
  },
  {
   "cell_type": "code",
   "execution_count": 2,
   "id": "cccb7dc2",
   "metadata": {},
   "outputs": [
    {
     "name": "stdout",
     "output_type": "stream",
     "text": [
      "[34.6, 44.9, 68.3, 44.6, 12.7]\n"
     ]
    }
   ],
   "source": [
    "numbers = [34.6, -203.4, 44.9, 68.3, -12.2, 44.6, 12.7]\n",
    "newlist = [x for x in numbers if x > 0]\n",
    "print(newlist)"
   ]
  },
  {
   "cell_type": "markdown",
   "id": "62f307d5",
   "metadata": {},
   "source": [
    "## Lambda functions"
   ]
  },
  {
   "cell_type": "code",
   "execution_count": 6,
   "id": "787af6ce",
   "metadata": {},
   "outputs": [
    {
     "name": "stdout",
     "output_type": "stream",
     "text": [
      "Sum of 345 and 678 is 1023\n",
      "====\n",
      "Sum of 345 and 678 using lambda function is 1023\n"
     ]
    }
   ],
   "source": [
    "def sum(a, b):\n",
    "    return a + b\n",
    "\n",
    "a = 345\n",
    "b = 678\n",
    "c = sum(a, b)\n",
    "print(\"Sum of %d and %d is %d\" % (a, b, c))\n",
    "print('====')\n",
    "\n",
    "# using lambda function\n",
    "sum_lambda = lambda a, b: a + b\n",
    "c = sum_lambda(a, b)\n",
    "print(\"Sum of %d and %d using lambda function is %d\" % (a, b, c))"
   ]
  },
  {
   "cell_type": "code",
   "execution_count": 3,
   "id": "dd852635",
   "metadata": {},
   "outputs": [
    {
     "name": "stdout",
     "output_type": "stream",
     "text": [
      "False\n",
      "False\n",
      "True\n",
      "True\n",
      "False\n",
      "True\n"
     ]
    }
   ],
   "source": [
    "l = [2,4,7,3,14,19]\n",
    "for i in l:\n",
    "    # your code here\n",
    "    is_odd = lambda x : x % 2 != 0\n",
    "    print(is_odd(i))"
   ]
  },
  {
   "cell_type": "markdown",
   "id": "d76828cd",
   "metadata": {},
   "source": [
    "## Multiple Function Arguments"
   ]
  },
  {
   "cell_type": "code",
   "execution_count": 7,
   "id": "21776173",
   "metadata": {},
   "outputs": [
    {
     "name": "stdout",
     "output_type": "stream",
     "text": [
      "First: 1\n",
      "Second: 2\n",
      "Third: 3\n",
      "And all the rest... [4, 5]\n"
     ]
    }
   ],
   "source": [
    "def foo(arg1, arg2, arg3, *therest):\n",
    "    print(\"First: %s\" %(arg1))\n",
    "    print(\"Second: %s\" %(arg2))\n",
    "    print(\"Third: %s\" %(arg3))\n",
    "    print(\"And all the rest... %s\" %(list(therest)))\n",
    "\n",
    "foo(1, 2, 3, 4, 5)"
   ]
  },
  {
   "cell_type": "code",
   "execution_count": 15,
   "id": "26cc501e",
   "metadata": {},
   "outputs": [
    {
     "name": "stdout",
     "output_type": "stream",
     "text": [
      "The sum is: 6\n",
      "Result: 1\n"
     ]
    }
   ],
   "source": [
    "def bar(first, second, third, **options):\n",
    "    if options.get(\"action\") == \"sum\":\n",
    "        print(\"The sum is: %d\" %(first + second + third))\n",
    "\n",
    "    if options.get(\"number\") == \"first\":\n",
    "        return first\n",
    "\n",
    "result = bar(1, 2, 3, action = \"sum\", number = \"first\")\n",
    "print(\"Result: %d\" %(result))"
   ]
  },
  {
   "cell_type": "code",
   "execution_count": 4,
   "id": "30364c36",
   "metadata": {},
   "outputs": [
    {
     "name": "stdout",
     "output_type": "stream",
     "text": [
      "Good.\n",
      "Better.\n",
      "Great.\n",
      "Awesome!\n"
     ]
    }
   ],
   "source": [
    "# edit the functions prototype and implementation\n",
    "def foo(a, b, c, *args):\n",
    "    return len(args)\n",
    "\n",
    "def bar(a, b, c, **kwargs):\n",
    "    return kwargs.get(\"magicnumber\", 0) == 7\n",
    "\n",
    "\n",
    "# test code\n",
    "if foo(1, 2, 3, 4) == 1:\n",
    "    print(\"Good.\")\n",
    "if foo(1, 2, 3, 4, 5) == 2:\n",
    "    print(\"Better.\")\n",
    "if bar(1, 2, 3, magicnumber=6) == False:\n",
    "    print(\"Great.\")\n",
    "if bar(1, 2, 3, magicnumber=7) == True:\n",
    "    print(\"Awesome!\")"
   ]
  },
  {
   "cell_type": "markdown",
   "id": "c2130736",
   "metadata": {},
   "source": [
    "## Regular Expressions"
   ]
  },
  {
   "cell_type": "code",
   "execution_count": 17,
   "id": "311051cd",
   "metadata": {},
   "outputs": [
    {
     "name": "stdout",
     "output_type": "stream",
     "text": [
      "<re.Match object; span=(35, 39), match='[on]'>\n",
      "None\n"
     ]
    }
   ],
   "source": [
    "import re\n",
    "pattern = re.compile(r\"\\[(on|off)\\]\") # Slight optimization\n",
    "print(re.search(pattern, \"Mono: Playback 65 [75%] [-16.50dB] [on]\"))\n",
    "# Returns a Match object!\n",
    "print(re.search(pattern, \"Nada...:-(\"))"
   ]
  },
  {
   "cell_type": "code",
   "execution_count": 18,
   "id": "189af5d6",
   "metadata": {},
   "outputs": [
    {
     "name": "stdout",
     "output_type": "stream",
     "text": [
      "Pass\n",
      "Pass\n",
      "Pass\n"
     ]
    }
   ],
   "source": [
    "def test_email(your_pattern):\n",
    "    pattern = re.compile(your_pattern)\n",
    "    emails = [\"john@example.com\", \"python-list@python.org\", \"wha.t.`1an?ug{}ly@email.com\"]\n",
    "    for email in emails:\n",
    "        if not re.match(pattern, email):\n",
    "            print(\"You failed to match %s\" % (email))\n",
    "        elif not your_pattern:\n",
    "            print(\"Forgot to enter a pattern!\")\n",
    "        else:\n",
    "            print(\"Pass\")\n",
    "# Your pattern here!\n",
    "pattern = r\"\\\"?([-a-zA-Z0-9.`?{}]+@\\w+\\.\\w+)\\\"?\"\n",
    "test_email(pattern)"
   ]
  },
  {
   "cell_type": "markdown",
   "id": "27280459",
   "metadata": {},
   "source": [
    "## Exception Handling"
   ]
  },
  {
   "cell_type": "code",
   "execution_count": 20,
   "id": "2654fea1",
   "metadata": {},
   "outputs": [
    {
     "name": "stdout",
     "output_type": "stream",
     "text": [
      "1\n",
      "2\n",
      "3\n",
      "4\n",
      "5\n"
     ]
    },
    {
     "ename": "IndexError",
     "evalue": "tuple index out of range",
     "output_type": "error",
     "traceback": [
      "\u001b[1;31m---------------------------------------------------------------------------\u001b[0m",
      "\u001b[1;31mIndexError\u001b[0m                                Traceback (most recent call last)",
      "Cell \u001b[1;32mIn[20], line 10\u001b[0m\n\u001b[0;32m      7\u001b[0m     \u001b[38;5;28;01mfor\u001b[39;00m i \u001b[38;5;129;01min\u001b[39;00m \u001b[38;5;28mrange\u001b[39m(\u001b[38;5;241m20\u001b[39m):\n\u001b[0;32m      8\u001b[0m         do_stuff_with_number(the_list[i])\n\u001b[1;32m---> 10\u001b[0m catch_this()\n",
      "Cell \u001b[1;32mIn[20], line 8\u001b[0m, in \u001b[0;36mcatch_this\u001b[1;34m()\u001b[0m\n\u001b[0;32m      5\u001b[0m the_list \u001b[38;5;241m=\u001b[39m (\u001b[38;5;241m1\u001b[39m, \u001b[38;5;241m2\u001b[39m, \u001b[38;5;241m3\u001b[39m, \u001b[38;5;241m4\u001b[39m, \u001b[38;5;241m5\u001b[39m)\n\u001b[0;32m      7\u001b[0m \u001b[38;5;28;01mfor\u001b[39;00m i \u001b[38;5;129;01min\u001b[39;00m \u001b[38;5;28mrange\u001b[39m(\u001b[38;5;241m20\u001b[39m):\n\u001b[1;32m----> 8\u001b[0m     do_stuff_with_number(the_list[i])\n",
      "\u001b[1;31mIndexError\u001b[0m: tuple index out of range"
     ]
    }
   ],
   "source": [
    "def do_stuff_with_number(n):\n",
    "    print(n)\n",
    "\n",
    "def catch_this():\n",
    "    the_list = (1, 2, 3, 4, 5)\n",
    "\n",
    "    for i in range(20):\n",
    "        do_stuff_with_number(the_list[i])\n",
    "\n",
    "catch_this()"
   ]
  },
  {
   "cell_type": "code",
   "execution_count": 23,
   "id": "2cf7ee69",
   "metadata": {},
   "outputs": [
    {
     "name": "stdout",
     "output_type": "stream",
     "text": [
      "1\n",
      "2\n",
      "3\n",
      "4\n",
      "5\n",
      "0\n",
      "0\n",
      "0\n",
      "0\n",
      "0\n",
      "0\n",
      "0\n",
      "0\n",
      "0\n",
      "0\n",
      "0\n",
      "0\n",
      "0\n",
      "0\n",
      "0\n"
     ]
    }
   ],
   "source": [
    "def catch_this():\n",
    "    the_list = (1, 2, 3, 4, 5)\n",
    "\n",
    "    for i in range(20):\n",
    "        try:\n",
    "            do_stuff_with_number(the_list[i])\n",
    "        except IndexError:\n",
    "            do_stuff_with_number(0)\n",
    "\n",
    "catch_this()"
   ]
  },
  {
   "cell_type": "code",
   "execution_count": 5,
   "id": "134842eb",
   "metadata": {},
   "outputs": [
    {
     "name": "stdout",
     "output_type": "stream",
     "text": [
      "All exceptions caught! Good job!\n",
      "The actor's last name is Cleese\n"
     ]
    }
   ],
   "source": [
    "# Setup\n",
    "actor = {\"name\": \"John Cleese\", \"rank\": \"awesome\"}\n",
    "\n",
    "# Function to modify!!!\n",
    "def get_last_name(): \n",
    "    try:\n",
    "        return actor[\"last_name\"]\n",
    "    except KeyError:\n",
    "        actor[\"last_name\"] = actor[\"name\"].split()[1]\n",
    "    return actor[\"last_name\"]\n",
    "\n",
    "# Test code\n",
    "get_last_name()\n",
    "print(\"All exceptions caught! Good job!\")\n",
    "print(\"The actor's last name is %s\" % get_last_name())"
   ]
  },
  {
   "cell_type": "markdown",
   "id": "d5e8007d",
   "metadata": {},
   "source": [
    "## Sets"
   ]
  },
  {
   "cell_type": "code",
   "execution_count": 29,
   "id": "363ef088",
   "metadata": {},
   "outputs": [
    {
     "name": "stdout",
     "output_type": "stream",
     "text": [
      "{'my', 'is', 'name', 'manish', 'and'}\n",
      "====\n",
      "{'John', 'Eric', 'Jake'}\n",
      "{'John', 'Jill'}\n",
      "====\n",
      "{'John'}\n",
      "{'John'}\n",
      "====\n",
      "{'Eric', 'Jake', 'Jill'}\n",
      "{'Eric', 'Jake', 'Jill'}\n",
      "====\n",
      "{'Eric', 'Jake'}\n",
      "{'Jill'}\n",
      "====\n",
      "{'Jake', 'John', 'Eric', 'Jill'}\n"
     ]
    }
   ],
   "source": [
    "print(set(\"my name is manish and manish is my name\".split()))\n",
    "print(\"====\")\n",
    "a = set([\"Jake\", \"John\", \"Eric\"])\n",
    "print(a)\n",
    "b = set([\"John\", \"Jill\"])\n",
    "print(b)\n",
    "# set operations\n",
    "print('====')\n",
    "print(a.intersection(b))\n",
    "print(b.intersection(a))\n",
    "print('====')\n",
    "print(a.symmetric_difference(b))\n",
    "print(b.symmetric_difference(a))\n",
    "print('====')\n",
    "print(a.difference(b))\n",
    "print(b.difference(a))\n",
    "print('====')\n",
    "print(a.union(b))"
   ]
  },
  {
   "cell_type": "code",
   "execution_count": 6,
   "id": "4e410ba8",
   "metadata": {},
   "outputs": [
    {
     "name": "stdout",
     "output_type": "stream",
     "text": [
      "{'Jake', 'Eric'}\n"
     ]
    }
   ],
   "source": [
    "a = [\"Jake\", \"John\", \"Eric\"]\n",
    "b = [\"John\", \"Jill\"]\n",
    "print(set(a).difference(set(b)))"
   ]
  },
  {
   "cell_type": "markdown",
   "id": "cb97b3ff",
   "metadata": {},
   "source": [
    "## Serialization"
   ]
  },
  {
   "cell_type": "code",
   "execution_count": 31,
   "id": "6b8fc620",
   "metadata": {},
   "outputs": [
    {
     "name": "stdout",
     "output_type": "stream",
     "text": [
      "[1, 2, 3, \"a\", \"b\", \"c\"]\n"
     ]
    }
   ],
   "source": [
    "import json\n",
    "json_string = json.dumps([1, 2, 3, \"a\", \"b\", \"c\"])\n",
    "print(json_string)"
   ]
  },
  {
   "cell_type": "code",
   "execution_count": 32,
   "id": "06f0e10f",
   "metadata": {},
   "outputs": [
    {
     "name": "stdout",
     "output_type": "stream",
     "text": [
      "[1, 2, 3, 'a', 'b', 'c']\n"
     ]
    }
   ],
   "source": [
    "import pickle\n",
    "pickled_string = pickle.dumps([1, 2, 3, \"a\", \"b\", \"c\"])\n",
    "print(pickle.loads(pickled_string))"
   ]
  },
  {
   "cell_type": "code",
   "execution_count": 7,
   "id": "13872299",
   "metadata": {},
   "outputs": [
    {
     "name": "stdout",
     "output_type": "stream",
     "text": [
      "300\n",
      "400\n",
      "800\n"
     ]
    }
   ],
   "source": [
    "import json\n",
    "\n",
    "# fix this function, so it adds the given name\n",
    "# and salary pair to salaries_json, and return it\n",
    "def add_employee(salaries_json, name, salary):\n",
    "    # Add your code here\n",
    "    salaries = json.loads(salaries_json)\n",
    "    salaries[name] = salary \n",
    "    salaries_json = json.dumps(salaries)\n",
    "    return salaries_json\n",
    "\n",
    "# test code\n",
    "salaries = '{\"Alfred\" : 300, \"Jane\" : 400 }'\n",
    "new_salaries = add_employee(salaries, \"Me\", 800)\n",
    "decoded_salaries = json.loads(new_salaries)\n",
    "print(decoded_salaries[\"Alfred\"])\n",
    "print(decoded_salaries[\"Jane\"])\n",
    "print(decoded_salaries[\"Me\"])"
   ]
  },
  {
   "cell_type": "markdown",
   "id": "c8af3c3d",
   "metadata": {},
   "source": [
    "## Partial functions"
   ]
  },
  {
   "cell_type": "code",
   "execution_count": 33,
   "id": "7eabd975",
   "metadata": {},
   "outputs": [
    {
     "name": "stdout",
     "output_type": "stream",
     "text": [
      "8\n"
     ]
    }
   ],
   "source": [
    "from functools import partial\n",
    "\n",
    "def multiply(x, y):\n",
    "        return x * y\n",
    "\n",
    "# create a new function that multiplies by 2\n",
    "dbl = partial(multiply, 2)\n",
    "print(dbl(4))"
   ]
  },
  {
   "cell_type": "code",
   "execution_count": 8,
   "id": "4ff4a642",
   "metadata": {},
   "outputs": [
    {
     "name": "stdout",
     "output_type": "stream",
     "text": [
      "60\n"
     ]
    }
   ],
   "source": [
    "#Following is the exercise, function provided:\n",
    "from functools import partial\n",
    "def func(u, v, w, x):\n",
    "    return u*4 + v*3 + w*2 + x\n",
    "#Enter your code here to create and print with your partial function\n",
    "partial_func = partial(func, 5, 10, 3)\n",
    "print(partial_func(4))"
   ]
  },
  {
   "cell_type": "markdown",
   "id": "3fa9e546",
   "metadata": {},
   "source": [
    "## Code Introspection"
   ]
  },
  {
   "cell_type": "code",
   "execution_count": 37,
   "id": "7681d1fa",
   "metadata": {},
   "outputs": [
    {
     "name": "stdout",
     "output_type": "stream",
     "text": [
      "Help on built-in function dir in module builtins:\n",
      "\n",
      "dir(...)\n",
      "    Show attributes of an object.\n",
      "\n",
      "    If called without an argument, return the names in the current scope.\n",
      "    Else, return an alphabetized list of names comprising (some of) the attributes\n",
      "    of the given object, and of attributes reachable from it.\n",
      "    If the object supplies a method named __dir__, it will be used; otherwise\n",
      "    the default dir() logic is used and returns:\n",
      "      for a module object: the module's attributes.\n",
      "      for a class object:  its attributes, and recursively the attributes\n",
      "        of its bases.\n",
      "      for any other object: its attributes, its class's attributes, and\n",
      "        recursively the attributes of its class's base classes.\n",
      "\n",
      "====\n",
      "Help on built-in function hasattr in module builtins:\n",
      "\n",
      "hasattr(obj, name, /)\n",
      "    Return whether the object has an attribute with the given name.\n",
      "\n",
      "    This is done by calling getattr(obj, name) and catching AttributeError.\n",
      "\n"
     ]
    }
   ],
   "source": [
    "help(dir)\n",
    "print('====')\n",
    "help(hasattr)"
   ]
  },
  {
   "cell_type": "code",
   "execution_count": 9,
   "id": "062ef340",
   "metadata": {},
   "outputs": [
    {
     "name": "stdout",
     "output_type": "stream",
     "text": [
      "['__class__', '__delattr__', '__dict__', '__dir__', '__doc__', '__eq__', '__format__', '__ge__', '__getattribute__', '__getstate__', '__gt__', '__hash__', '__init__', '__init_subclass__', '__le__', '__lt__', '__module__', '__ne__', '__new__', '__reduce__', '__reduce_ex__', '__repr__', '__setattr__', '__sizeof__', '__str__', '__subclasshook__', '__weakref__', 'color', 'description', 'kind', 'name', 'value']\n"
     ]
    }
   ],
   "source": [
    "# Use the help function to see what each function does.\n",
    "# Delete this when you are done.\n",
    "# help(dir)\n",
    "# help(hasattr)\n",
    "# help(id)\n",
    "\n",
    "# Define the Vehicle class.\n",
    "class Vehicle:\n",
    "    name = \"\"\n",
    "    kind = \"car\"\n",
    "    color = \"\"\n",
    "    value = 100.00\n",
    "    def description(self):\n",
    "        desc_str = \"%s is a %s %s worth $%.2f.\" % (self.name, self.color, self.kind, self.value)\n",
    "        return desc_str\n",
    "\n",
    "# Print a list of all attributes of the Vehicle class.\n",
    "# Your code goes here\n",
    "print(dir(Vehicle))\n"
   ]
  },
  {
   "cell_type": "markdown",
   "id": "542ac259",
   "metadata": {},
   "source": [
    "## Closures"
   ]
  },
  {
   "cell_type": "code",
   "execution_count": 38,
   "id": "00d91280",
   "metadata": {},
   "outputs": [
    {
     "name": "stdout",
     "output_type": "stream",
     "text": [
      "Test message\n",
      "None\n"
     ]
    }
   ],
   "source": [
    "def transmit_to_space(message):\n",
    "    \"This is the enclosing function\"\n",
    "    def data_transmitter():\n",
    "        \"The nested function\"\n",
    "        print(message)\n",
    "\n",
    "    data_transmitter()\n",
    "\n",
    "print(transmit_to_space(\"Test message\"))"
   ]
  },
  {
   "cell_type": "code",
   "execution_count": 39,
   "id": "a68c7bbe",
   "metadata": {},
   "outputs": [
    {
     "name": "stdout",
     "output_type": "stream",
     "text": [
      "3\n",
      "3\n"
     ]
    }
   ],
   "source": [
    "def print_msg(number):\n",
    "    def printer():\n",
    "        \"Here we are using the nonlocal keyword\"\n",
    "        nonlocal number\n",
    "        number=3\n",
    "        print(number)\n",
    "    printer()\n",
    "    print(number)\n",
    "\n",
    "print_msg(9)"
   ]
  },
  {
   "cell_type": "code",
   "execution_count": 41,
   "id": "feb803d5",
   "metadata": {},
   "outputs": [
    {
     "name": "stdout",
     "output_type": "stream",
     "text": [
      "Burn the Sun!\n"
     ]
    }
   ],
   "source": [
    "def transmit_to_space(message):\n",
    "  \"This is the enclosing function\"\n",
    "  def data_transmitter():\n",
    "      \"The nested function\"\n",
    "      print(message)\n",
    "  return data_transmitter\n",
    "\n",
    "fun2 = transmit_to_space(\"Burn the Sun!\")\n",
    "fun2()"
   ]
  },
  {
   "cell_type": "code",
   "execution_count": 10,
   "id": "6908365d",
   "metadata": {},
   "outputs": [
    {
     "data": {
      "text/plain": [
       "45"
      ]
     },
     "execution_count": 10,
     "metadata": {},
     "output_type": "execute_result"
    }
   ],
   "source": [
    "# your code goes here\n",
    "\n",
    "def multiplier_of(factor):\n",
    "    def multiply_by(x):\n",
    "        return x * factor\n",
    "    return multiply_by\n",
    "\n",
    "multiplywith5 = multiplier_of(5)\n",
    "multiplywith5(9)"
   ]
  },
  {
   "cell_type": "markdown",
   "id": "7b00b75b",
   "metadata": {},
   "source": [
    "## Decorators"
   ]
  },
  {
   "cell_type": "code",
   "execution_count": null,
   "id": "faf807bf",
   "metadata": {},
   "outputs": [],
   "source": [
    "def repeater(old_function):\n",
    "    def new_function(*args, **kwds):\n",
    "        old_function(*args, **kwds) \n",
    "        old_function(*args, **kwds) \n",
    "    return new_function "
   ]
  },
  {
   "cell_type": "code",
   "execution_count": null,
   "id": "44260b0e",
   "metadata": {},
   "outputs": [],
   "source": [
    "def double_out(old_function):\n",
    "    def new_function(*args, **kwds):\n",
    "        return 2 * old_function(*args, **kwds) \n",
    "    return new_function"
   ]
  },
  {
   "cell_type": "code",
   "execution_count": 46,
   "id": "f320cffc",
   "metadata": {},
   "outputs": [],
   "source": [
    "def double_Ii(old_function):\n",
    "    def new_function(arg): \n",
    "        return old_function(arg * 2) \n",
    "    return new_function"
   ]
  },
  {
   "cell_type": "code",
   "execution_count": null,
   "id": "5a8c241d",
   "metadata": {},
   "outputs": [
    {
     "data": {
      "text/plain": [
       "15"
      ]
     },
     "execution_count": 47,
     "metadata": {},
     "output_type": "execute_result"
    }
   ],
   "source": [
    "def multiply(multiplier):\n",
    "    def multiply_generator(old_function):\n",
    "        def new_function(*args, **kwds):\n",
    "            return multiplier * old_function(*args, **kwds)\n",
    "        return new_function\n",
    "    return multiply_generator \n",
    "\n",
    "@multiply(3) \n",
    "def return_num(num):\n",
    "    return num\n",
    "\n",
    "return_num(5)"
   ]
  },
  {
   "cell_type": "code",
   "execution_count": 11,
   "id": "46ca08f1",
   "metadata": {},
   "outputs": [
    {
     "name": "stdout",
     "output_type": "stream",
     "text": [
      "4\n",
      "Bad Type\n",
      "H\n",
      "Bad Type\n"
     ]
    }
   ],
   "source": [
    "def type_check(correct_type):\n",
    "    #put code here\n",
    "    def check(old_function):\n",
    "        def new_function(arg):\n",
    "            if not isinstance(arg, correct_type):\n",
    "                print(\"Bad Type\")\n",
    "            else:\n",
    "                return old_function(arg)\n",
    "        return new_function\n",
    "    return check\n",
    "\n",
    "@type_check(int)\n",
    "def times2(num):\n",
    "    return num*2\n",
    "\n",
    "print(times2(2))\n",
    "times2('Not A Number')\n",
    "\n",
    "@type_check(str)\n",
    "def first_letter(word):\n",
    "    return word[0]\n",
    "\n",
    "print(first_letter('Hello World'))\n",
    "first_letter(['Not', 'A', 'String'])"
   ]
  },
  {
   "cell_type": "markdown",
   "id": "35d8f844",
   "metadata": {},
   "source": [
    "## Map, Filter, Reduce"
   ]
  },
  {
   "cell_type": "code",
   "execution_count": 58,
   "id": "0381be47",
   "metadata": {},
   "outputs": [
    {
     "name": "stdout",
     "output_type": "stream",
     "text": [
      "['ALFRED', 'BRUCE', 'TONY', 'NATASHA']\n",
      "====\n",
      "['ALFRED', 'BRUCE', 'TONY', 'NATASHA']\n",
      "====\n",
      "[3.6, 5.58, 4.009, 56.2424, 9.01344, 32.00013]\n",
      "====\n",
      "[3.6, 5.58]\n",
      "====\n",
      "[('a', 1), ('b', 2), ('c', 3), ('d', 4), ('e', 5)]\n",
      "====\n",
      "[('a', 1), ('b', 2), ('c', 3), ('d', 4), ('e', 5)]\n",
      "====\n",
      "[90, 76, 88, 81]\n",
      "====\n",
      "['madam', 'anutforajaroftuna']\n",
      "====\n",
      "68\n",
      "====\n",
      "78\n"
     ]
    }
   ],
   "source": [
    "my_pets = ['alfred', 'Bruce', 'Tony', 'Natasha']\n",
    "uppered_pets = []\n",
    "\n",
    "for pet in my_pets:\n",
    "    pet_ = pet.upper()\n",
    "    uppered_pets.append(pet_)\n",
    "\n",
    "print(uppered_pets)\n",
    "# using map\n",
    "print('====')\n",
    "uppered_pets = list(map(str.upper, my_pets))\n",
    "\n",
    "print(uppered_pets)\n",
    "print('====')\n",
    "\n",
    "circle_areas = [3.56773, 5.57668, 4.00914, 56.24241, 9.01344, 32.00013]\n",
    "result = list(map(round, circle_areas, range(1, 7)))\n",
    "print(result)\n",
    "print('====')\n",
    "\n",
    "circle_areas = [3.56773, 5.57668, 4.00914, 56.24241, 9.01344, 32.00013]\n",
    "result = list(map(round, circle_areas, range(1, 3)))\n",
    "print(result)\n",
    "print('====')\n",
    "\n",
    "my_strings = ['a', 'b', 'c', 'd', 'e']\n",
    "my_numbers = [1, 2, 3, 4, 5]\n",
    "results = list(zip(my_strings, my_numbers))\n",
    "print(results)\n",
    "print('====')\n",
    "\n",
    "my_strings = ['a', 'b', 'c', 'd', 'e']\n",
    "my_numbers = [1, 2, 3, 4, 5]\n",
    "results = list(map(lambda x, y: (x, y), my_strings, my_numbers))\n",
    "print(results)\n",
    "print('====')\n",
    "\n",
    "scores = [66, 90, 68, 59, 76, 60, 88, 74, 81, 65]\n",
    "def is_A_student(score):\n",
    "    return score > 75\n",
    "# using filter\n",
    "over_75 = list(filter(is_A_student, scores))\n",
    "print(over_75)\n",
    "print('====')\n",
    "\n",
    "dromes = (\"demigod\", \"rewire\", \"madam\", \"freer\", \"anutforajaroftuna\", \"kiosk\")\n",
    "palindromes = list(filter(lambda word: word == word[::-1], dromes))\n",
    "print(palindromes)\n",
    "print('====')\n",
    "\n",
    "# using reduce\n",
    "from functools import reduce\n",
    "numbers = [3, 4, 6, 9, 34, 12]\n",
    "def custom_sum(first, second):\n",
    "    return first + second\n",
    "result = reduce(custom_sum, numbers)\n",
    "print(result)\n",
    "print('====')\n",
    "\n",
    "result = reduce(custom_sum, numbers, 10)\n",
    "print(result)"
   ]
  },
  {
   "cell_type": "code",
   "execution_count": 12,
   "id": "104120c6",
   "metadata": {},
   "outputs": [
    {
     "name": "stdout",
     "output_type": "stream",
     "text": [
      "[18.922, 37.088, 10.562, 95.453, 4.666, 78.854, 21.068]\n",
      "['olumide', 'josiah', 'omoseun']\n",
      "24840\n"
     ]
    }
   ],
   "source": [
    "from functools import reduce \n",
    "\n",
    "# Use map to print the square of each numbers rounded\n",
    "# to three decimal places\n",
    "my_floats = [4.35, 6.09, 3.25, 9.77, 2.16, 8.88, 4.59]\n",
    "\n",
    "\n",
    "# Use filter to print only the names that are less than \n",
    "# or equal to seven letters\n",
    "my_names = [\"olumide\", \"akinremi\", \"josiah\", \"temidayo\", \"omoseun\"]\n",
    "\n",
    "# Use reduce to print the product of these numbers\n",
    "my_numbers = [4, 6, 9, 23, 5]\n",
    "\n",
    "# Fix all three respectively.\n",
    "map_result = list(map(lambda x: round(x**2, 3), my_floats))\n",
    "filter_result = list(filter(lambda name: len(name) <= 7, my_names))\n",
    "reduce_result = reduce(lambda num1, num2: num1 * num2, my_numbers, 1)\n",
    "\n",
    "print(map_result)\n",
    "print(filter_result)\n",
    "print(reduce_result)"
   ]
  },
  {
   "cell_type": "markdown",
   "id": "b416be45",
   "metadata": {},
   "source": [
    "## Parsing CSV files"
   ]
  },
  {
   "cell_type": "code",
   "execution_count": 61,
   "id": "cfba5f59",
   "metadata": {},
   "outputs": [
    {
     "name": "stdout",
     "output_type": "stream",
     "text": [
      "['age', 'gender', 'genre']\n",
      "['20', '1', 'HipHop']\n",
      "['23', '1', 'HipHop']\n",
      "['25', '1', 'HipHop']\n",
      "['26', '1', 'Jazz']\n",
      "['29', '1', 'Jazz']\n",
      "['30', '1', 'Jazz']\n",
      "['31', '1', 'Classical']\n",
      "['33', '1', 'Classical']\n",
      "['37', '1', 'Classical']\n",
      "['20', '0', 'Dance']\n",
      "['21', '0', 'Dance']\n",
      "['25', '0', 'Dance']\n",
      "['26', '0', 'Acoustic']\n",
      "['27', '0', 'Acoustic']\n",
      "['30', '0', 'Acoustic']\n",
      "['31', '0', 'Classical']\n",
      "['34', '0', 'Classical']\n",
      "['35', '0', 'Classical']\n",
      "====\n",
      "['20', '1', 'HipHop']\n",
      "['23', '1', 'HipHop']\n",
      "['25', '1', 'HipHop']\n",
      "['26', '1', 'Jazz']\n",
      "['29', '1', 'Jazz']\n",
      "['30', '1', 'Jazz']\n",
      "['31', '1', 'Classical']\n",
      "['33', '1', 'Classical']\n",
      "['37', '1', 'Classical']\n",
      "['20', '0', 'Dance']\n",
      "['21', '0', 'Dance']\n",
      "['25', '0', 'Dance']\n",
      "['26', '0', 'Acoustic']\n",
      "['27', '0', 'Acoustic']\n",
      "['30', '0', 'Acoustic']\n",
      "['31', '0', 'Classical']\n",
      "['34', '0', 'Classical']\n",
      "['35', '0', 'Classical']\n"
     ]
    }
   ],
   "source": [
    "import csv\n",
    "with open('C://Users//manis//Downloads//music.csv') as file:\n",
    "    reader = csv.reader(file)\n",
    "    for row in reader:\n",
    "        print(row)\n",
    "print('====')\n",
    "with open('C://Users//manis//Downloads//music.csv') as file:\n",
    "    reader = csv.reader(file)\n",
    "    fields = reader.__next__()\n",
    "    for row in reader:\n",
    "        print(row)"
   ]
  },
  {
   "cell_type": "code",
   "execution_count": 62,
   "id": "06acd655",
   "metadata": {},
   "outputs": [],
   "source": [
    "rows = [[\"foo\", \"bar\", \"spam\"],\n",
    "       [\"oof\", \"rab\", \"maps\"],\n",
    "       [\"writerow\", \"isn't\", \"writerows\"]]\n",
    "\n",
    "filename = \"university_records.csv\"\n",
    "\n",
    "with open('C://Users//manis//Downloads//university_records.csv', 'w') as csvfile:\n",
    "    csvwriter = csv.writer(csvfile)\n",
    "    csvwriter.writerow(fields)\n",
    "    csvwriter.writerows(rows)"
   ]
  },
  {
   "cell_type": "code",
   "execution_count": 72,
   "id": "0fb10f74",
   "metadata": {},
   "outputs": [
    {
     "name": "stdout",
     "output_type": "stream",
     "text": [
      "Rob Scott\n",
      "Tom Brown\n",
      "Henry Smith\n"
     ]
    },
    {
     "data": {
      "text/html": [
       "<div>\n",
       "<style scoped>\n",
       "    .dataframe tbody tr th:only-of-type {\n",
       "        vertical-align: middle;\n",
       "    }\n",
       "\n",
       "    .dataframe tbody tr th {\n",
       "        vertical-align: top;\n",
       "    }\n",
       "\n",
       "    .dataframe thead th {\n",
       "        text-align: right;\n",
       "    }\n",
       "</style>\n",
       "<table border=\"1\" class=\"dataframe\">\n",
       "  <thead>\n",
       "    <tr style=\"text-align: right;\">\n",
       "      <th></th>\n",
       "      <th>firstname</th>\n",
       "      <th>lastname</th>\n",
       "    </tr>\n",
       "  </thead>\n",
       "  <tbody>\n",
       "    <tr>\n",
       "      <th>0</th>\n",
       "      <td>Rob</td>\n",
       "      <td>Scott</td>\n",
       "    </tr>\n",
       "    <tr>\n",
       "      <th>1</th>\n",
       "      <td>Tom</td>\n",
       "      <td>Brown</td>\n",
       "    </tr>\n",
       "    <tr>\n",
       "      <th>2</th>\n",
       "      <td>Henry</td>\n",
       "      <td>Smith</td>\n",
       "    </tr>\n",
       "  </tbody>\n",
       "</table>\n",
       "</div>"
      ],
      "text/plain": [
       "  firstname lastname\n",
       "0       Rob    Scott\n",
       "1       Tom    Brown\n",
       "2     Henry    Smith"
      ]
     },
     "execution_count": 72,
     "metadata": {},
     "output_type": "execute_result"
    }
   ],
   "source": [
    "import csv\n",
    "with open('info.csv') as csvfile:\n",
    "    reader = csv.DictReader(csvfile)\n",
    "    for row in reader:\n",
    "        print(row['firstname'], row['lastname'])\n",
    "\n",
    "f = open('info.csv', 'w')\n",
    "with f:\n",
    "\n",
    "    fnames = ['firstname', 'lastname']\n",
    "    writer = csv.DictWriter(f, fieldnames=fnames)\n",
    "\n",
    "    writer.writeheader()\n",
    "    writer.writerow({'firstname' : 'Rob', 'lastname': 'Scott'})\n",
    "    writer.writerow({'firstname' : 'Tom', 'lastname': 'Brown'})\n",
    "    writer.writerow({'firstname' : 'Henry', 'lastname': 'Smith'})\n",
    "import pandas as pd\n",
    "df = pd.read_csv('info.csv')\n",
    "df"
   ]
  },
  {
   "cell_type": "code",
   "execution_count": 13,
   "id": "541e1415",
   "metadata": {},
   "outputs": [],
   "source": [
    "import csv\n",
    "\n",
    "# Create sample data for inputfile.csv\n",
    "rows = [\n",
    "    [10, \"apple\", \"red\"],\n",
    "    [55, \"banana\", \"yellow\"],\n",
    "    [42, \"grape\", \"purple\"],\n",
    "    [75, \"orange\", \"orange\"],\n",
    "    [60, \"kiwi\", \"green\"]\n",
    "]\n",
    "\n",
    "fields = [\"number\", \"fruit\", \"color\"]\n",
    "\n",
    "with open(\"inputfile.csv\", \"w\", newline='') as csvfile:\n",
    "    writer = csv.writer(csvfile)\n",
    "    writer.writerow(fields)\n",
    "    writer.writerows(rows)"
   ]
  },
  {
   "cell_type": "code",
   "execution_count": null,
   "id": "200eaa0b",
   "metadata": {},
   "outputs": [],
   "source": []
  }
 ],
 "metadata": {
  "kernelspec": {
   "display_name": "base",
   "language": "python",
   "name": "python3"
  },
  "language_info": {
   "codemirror_mode": {
    "name": "ipython",
    "version": 3
   },
   "file_extension": ".py",
   "mimetype": "text/x-python",
   "name": "python",
   "nbconvert_exporter": "python",
   "pygments_lexer": "ipython3",
   "version": "3.12.7"
  }
 },
 "nbformat": 4,
 "nbformat_minor": 5
}
